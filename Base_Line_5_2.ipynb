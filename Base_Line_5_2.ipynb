{
  "metadata": {
    "kernelspec": {
      "language": "python",
      "display_name": "Python 3",
      "name": "python3"
    },
    "language_info": {
      "name": "python",
      "version": "3.7.9",
      "mimetype": "text/x-python",
      "codemirror_mode": {
        "name": "ipython",
        "version": 3
      },
      "pygments_lexer": "ipython3",
      "nbconvert_exporter": "python",
      "file_extension": ".py"
    },
    "kaggle": {
      "accelerator": "gpu",
      "dataSources": [
        {
          "sourceId": 25949,
          "databundleVersionId": 1994327,
          "sourceType": "competition"
        }
      ],
      "dockerImageVersionId": 30068,
      "isInternetEnabled": true,
      "language": "python",
      "sourceType": "notebook",
      "isGpuEnabled": true
    },
    "colab": {
      "name": "Base_Line_5_2",
      "provenance": [],
      "include_colab_link": true
    }
  },
  "nbformat_minor": 0,
  "nbformat": 4,
  "cells": [
    {
      "cell_type": "markdown",
      "metadata": {
        "id": "view-in-github",
        "colab_type": "text"
      },
      "source": [
        "<a href=\"https://colab.research.google.com/github/sergey031/DZ_Neiro/blob/master/Base_Line_5_2.ipynb\" target=\"_parent\"><img src=\"https://colab.research.google.com/assets/colab-badge.svg\" alt=\"Open In Colab\"/></a>"
      ]
    },
    {
      "source": [
        "\n",
        "# IMPORTANT: RUN THIS CELL IN ORDER TO IMPORT YOUR KAGGLE DATA SOURCES\n",
        "# TO THE CORRECT LOCATION (/kaggle/input) IN YOUR NOTEBOOK,\n",
        "# THEN FEEL FREE TO DELETE THIS CELL.\n",
        "# NOTE: THIS NOTEBOOK ENVIRONMENT DIFFERS FROM KAGGLE'S PYTHON\n",
        "# ENVIRONMENT SO THERE MAY BE MISSING LIBRARIES USED BY YOUR\n",
        "# NOTEBOOK.\n",
        "\n",
        "import os\n",
        "import sys\n",
        "from tempfile import NamedTemporaryFile\n",
        "from urllib.request import urlopen\n",
        "from urllib.parse import unquote, urlparse\n",
        "from urllib.error import HTTPError\n",
        "from zipfile import ZipFile\n",
        "import tarfile\n",
        "import shutil\n",
        "\n",
        "CHUNK_SIZE = 40960\n",
        "DATA_SOURCE_MAPPING = 'dl-urfu-yelp:https%3A%2F%2Fstorage.googleapis.com%2Fkaggle-competitions-data%2Fkaggle-v2%2F25949%2F1994327%2Fbundle%2Farchive.zip%3FX-Goog-Algorithm%3DGOOG4-RSA-SHA256%26X-Goog-Credential%3Dgcp-kaggle-com%2540kaggle-161607.iam.gserviceaccount.com%252F20240311%252Fauto%252Fstorage%252Fgoog4_request%26X-Goog-Date%3D20240311T092316Z%26X-Goog-Expires%3D259200%26X-Goog-SignedHeaders%3Dhost%26X-Goog-Signature%3Da1e9f0a56eda24729855e2e9bd617b65370ce373dd152494649c00ccf6e54c13b18cf96cb9e5002d01fcf8c3c2e29df363c5daa4d25a2a173c9bdb258a39f7d441aa12e83c4ed4dc17f114cb33fd3a4a70265cd9bbda697193ab78bb9df194c29005a62db2f8e744cc24cce5d7bdeeb91f0eb0544399268cb548eb130731d8ef44d9877e5d269eef06f2463721471bb155197e7ea34ccad1cb380a40040e149e1ff167921ac4e3352e7e8981426dc0862e206f6ff700bc5a7364fcb57968c219406e81c6f1d2afaa3747a33f0326aa65a74dc95c43c2563302272956787936d7a92ca27add4b98745b25f5062ca08918b7e777672dea74baa44b226e679413d2'\n",
        "\n",
        "KAGGLE_INPUT_PATH='/kaggle/input'\n",
        "KAGGLE_WORKING_PATH='/kaggle/working'\n",
        "KAGGLE_SYMLINK='kaggle'\n",
        "\n",
        "!umount /kaggle/input/ 2> /dev/null\n",
        "shutil.rmtree('/kaggle/input', ignore_errors=True)\n",
        "os.makedirs(KAGGLE_INPUT_PATH, 0o777, exist_ok=True)\n",
        "os.makedirs(KAGGLE_WORKING_PATH, 0o777, exist_ok=True)\n",
        "\n",
        "try:\n",
        "  os.symlink(KAGGLE_INPUT_PATH, os.path.join(\"..\", 'input'), target_is_directory=True)\n",
        "except FileExistsError:\n",
        "  pass\n",
        "try:\n",
        "  os.symlink(KAGGLE_WORKING_PATH, os.path.join(\"..\", 'working'), target_is_directory=True)\n",
        "except FileExistsError:\n",
        "  pass\n",
        "\n",
        "for data_source_mapping in DATA_SOURCE_MAPPING.split(','):\n",
        "    directory, download_url_encoded = data_source_mapping.split(':')\n",
        "    download_url = unquote(download_url_encoded)\n",
        "    filename = urlparse(download_url).path\n",
        "    destination_path = os.path.join(KAGGLE_INPUT_PATH, directory)\n",
        "    try:\n",
        "        with urlopen(download_url) as fileres, NamedTemporaryFile() as tfile:\n",
        "            total_length = fileres.headers['content-length']\n",
        "            print(f'Downloading {directory}, {total_length} bytes compressed')\n",
        "            dl = 0\n",
        "            data = fileres.read(CHUNK_SIZE)\n",
        "            while len(data) > 0:\n",
        "                dl += len(data)\n",
        "                tfile.write(data)\n",
        "                done = int(50 * dl / int(total_length))\n",
        "                sys.stdout.write(f\"\\r[{'=' * done}{' ' * (50-done)}] {dl} bytes downloaded\")\n",
        "                sys.stdout.flush()\n",
        "                data = fileres.read(CHUNK_SIZE)\n",
        "            if filename.endswith('.zip'):\n",
        "              with ZipFile(tfile) as zfile:\n",
        "                zfile.extractall(destination_path)\n",
        "            else:\n",
        "              with tarfile.open(tfile.name) as tarfile:\n",
        "                tarfile.extractall(destination_path)\n",
        "            print(f'\\nDownloaded and uncompressed: {directory}')\n",
        "    except HTTPError as e:\n",
        "        print(f'Failed to load (likely expired) {download_url} to path {destination_path}')\n",
        "        continue\n",
        "    except OSError as e:\n",
        "        print(f'Failed to load {download_url} to path {destination_path}')\n",
        "        continue\n",
        "\n",
        "print('Data source import complete.')\n"
      ],
      "metadata": {
        "id": "Y4kE9RCY0u_-"
      },
      "cell_type": "code",
      "outputs": [],
      "execution_count": null
    },
    {
      "cell_type": "markdown",
      "source": [
        "## Определение тональности текстов отзывов на сайте [YELP](https://www.yelp.com/dataset) одномерной сверточной нейросетью\n",
        "\n",
        "Учебный курс \"[Программирование глубоких нейронных сетей на Python](https://openedu.ru/course/urfu/PYDNN/)\".\n"
      ],
      "metadata": {
        "id": "ZGRQOy9x0vAA"
      }
    },
    {
      "cell_type": "code",
      "source": [
        "from tensorflow.keras.models import Sequential\n",
        "from tensorflow.keras.layers import Dense, Embedding, MaxPooling1D, Conv1D, GlobalMaxPooling1D, Dropout\n",
        "from tensorflow.keras import utils\n",
        "from tensorflow.keras.preprocessing.sequence import pad_sequences\n",
        "from tensorflow.keras.preprocessing.text import Tokenizer\n",
        "from tensorflow.keras.callbacks import ModelCheckpoint\n",
        "import pandas as pd\n",
        "import numpy as np\n",
        "import matplotlib.pyplot as plt\n",
        "%matplotlib inline\n",
        "import os\n",
        "for dirname, _, filenames in os.walk('/kaggle/input'):\n",
        "    for filename in filenames:\n",
        "        print(os.path.join(dirname, filename))\n"
      ],
      "metadata": {
        "_uuid": "8f2839f25d086af736a60e9eeb907d3b93b6e0e5",
        "_cell_guid": "b1076dfc-b9ad-4769-8c92-a6c4dae69d19",
        "execution": {
          "iopub.status.busy": "2024-03-11T08:32:44.892723Z",
          "iopub.execute_input": "2024-03-11T08:32:44.893126Z",
          "iopub.status.idle": "2024-03-11T08:32:44.916341Z",
          "shell.execute_reply.started": "2024-03-11T08:32:44.893093Z",
          "shell.execute_reply": "2024-03-11T08:32:44.915197Z"
        },
        "trusted": true,
        "id": "7tJlM-0_0vAB"
      },
      "execution_count": null,
      "outputs": []
    },
    {
      "cell_type": "markdown",
      "source": [
        "Загружаем данные"
      ],
      "metadata": {
        "id": "IyWcm7AP0vAB"
      }
    },
    {
      "cell_type": "code",
      "source": [
        "KAGGLE_PATH = '/kaggle/input/dl-urfu-yelp/'\n",
        "x_train = pd.read_csv(KAGGLE_PATH + 'train.csv')\n",
        "y_train = pd.read_csv(KAGGLE_PATH + 'train_label.csv', index_col=0)\n",
        "x_test = pd.read_csv(KAGGLE_PATH + 'test.csv')\n",
        "x_train.shape, y_train.shape, x_test.shape,"
      ],
      "metadata": {
        "_uuid": "d629ff2d2480ee46fbb7e2d37f6b5fab8052498a",
        "_cell_guid": "79c7e3d0-c299-4dcb-8224-4455121ee9b0",
        "execution": {
          "iopub.status.busy": "2024-03-11T08:32:44.920157Z",
          "iopub.execute_input": "2024-03-11T08:32:44.92043Z",
          "iopub.status.idle": "2024-03-11T08:32:48.716294Z",
          "shell.execute_reply.started": "2024-03-11T08:32:44.920405Z",
          "shell.execute_reply": "2024-03-11T08:32:48.715215Z"
        },
        "trusted": true,
        "id": "TjOPc2zR0vAB"
      },
      "execution_count": null,
      "outputs": []
    },
    {
      "cell_type": "markdown",
      "source": [
        "## Подготовка данных для обучения"
      ],
      "metadata": {
        "id": "yZoytubC0vAB"
      }
    },
    {
      "cell_type": "markdown",
      "source": [
        "### Токенизация текста"
      ],
      "metadata": {
        "id": "mCYL2-3b0vAB"
      }
    },
    {
      "cell_type": "code",
      "source": [
        "# извлекаем столбец с текстом\n",
        "x_train = x_train.Review\n",
        "x_test = x_test.Review"
      ],
      "metadata": {
        "execution": {
          "iopub.status.busy": "2024-03-11T08:32:48.71851Z",
          "iopub.execute_input": "2024-03-11T08:32:48.718796Z",
          "iopub.status.idle": "2024-03-11T08:32:48.722716Z",
          "shell.execute_reply.started": "2024-03-11T08:32:48.718769Z",
          "shell.execute_reply": "2024-03-11T08:32:48.721821Z"
        },
        "trusted": true,
        "id": "2t8HkiqK0vAB"
      },
      "execution_count": null,
      "outputs": []
    },
    {
      "cell_type": "code",
      "source": [
        "# указываем длину словаря, который мы будем использовать\n",
        "num_words = 10000\n",
        "# указываем длину последовательности, к которой приведем все тексты\n",
        "max_review_len = 50\n",
        "# создаем и обучаем токенизатор на тернировочных данных\n",
        "tokenizer = Tokenizer(num_words=num_words)\n",
        "tokenizer.fit_on_texts(x_train)\n",
        "# применяем токенизатор к тренировочным и тестовым данным\n",
        "x_train = tokenizer.texts_to_sequences(x_train)\n",
        "x_test = tokenizer.texts_to_sequences(x_test)\n",
        "# приводим все вектора текстов к общей длине\n",
        "x_train = pad_sequences(x_train, maxlen=max_review_len, padding='post')\n",
        "x_test = pad_sequences(x_test, maxlen=max_review_len, padding='post')"
      ],
      "metadata": {
        "execution": {
          "iopub.status.busy": "2024-03-11T08:32:48.724775Z",
          "iopub.execute_input": "2024-03-11T08:32:48.725048Z",
          "iopub.status.idle": "2024-03-11T08:35:01.507312Z",
          "shell.execute_reply.started": "2024-03-11T08:32:48.725021Z",
          "shell.execute_reply": "2024-03-11T08:35:01.506533Z"
        },
        "trusted": true,
        "id": "3n5jlzVb0vAC"
      },
      "execution_count": null,
      "outputs": []
    },
    {
      "cell_type": "markdown",
      "source": [
        "## Создание нейронной сети"
      ],
      "metadata": {
        "id": "0aoMXyV30vAC"
      }
    },
    {
      "cell_type": "code",
      "source": [
        "model = Sequential()\n",
        "model.add(Embedding(num_words, 30, input_length=max_review_len))\n",
        "model.add(Conv1D(64, 5, padding='valid', activation='relu'))\n",
        "model.add(GlobalMaxPooling1D())\n",
        "model.add(Dense(64, activation='relu'))\n",
        "model.add(Dropout(0.2))\n",
        "model.add(Dense(1, activation='sigmoid'))"
      ],
      "metadata": {
        "execution": {
          "iopub.status.busy": "2024-03-11T08:35:01.508817Z",
          "iopub.execute_input": "2024-03-11T08:35:01.509254Z",
          "iopub.status.idle": "2024-03-11T08:35:01.557349Z",
          "shell.execute_reply.started": "2024-03-11T08:35:01.509209Z",
          "shell.execute_reply": "2024-03-11T08:35:01.556621Z"
        },
        "trusted": true,
        "id": "GWl-lVrt0vAC"
      },
      "execution_count": null,
      "outputs": []
    },
    {
      "cell_type": "code",
      "source": [
        "model.compile(optimizer='sgd',\n",
        "              loss='binary_crossentropy',\n",
        "              metrics=['accuracy'])"
      ],
      "metadata": {
        "execution": {
          "iopub.status.busy": "2024-03-11T08:35:01.558355Z",
          "iopub.execute_input": "2024-03-11T08:35:01.558621Z",
          "iopub.status.idle": "2024-03-11T08:35:01.570539Z",
          "shell.execute_reply.started": "2024-03-11T08:35:01.558595Z",
          "shell.execute_reply": "2024-03-11T08:35:01.569549Z"
        },
        "trusted": true,
        "id": "9HOhoQkl0vAC"
      },
      "execution_count": null,
      "outputs": []
    },
    {
      "cell_type": "markdown",
      "source": [
        "## Обучаем нейронную сеть"
      ],
      "metadata": {
        "id": "es3trlpR0vAC"
      }
    },
    {
      "cell_type": "code",
      "source": [
        "history = model.fit(x_train,\n",
        "                    y_train,\n",
        "                    epochs=40,\n",
        "                    batch_size=64,\n",
        "                    validation_split=0.1)"
      ],
      "metadata": {
        "execution": {
          "iopub.status.busy": "2024-03-11T08:35:01.571742Z",
          "iopub.execute_input": "2024-03-11T08:35:01.572083Z"
        },
        "trusted": true,
        "id": "ZN_5dHvY0vAC"
      },
      "execution_count": null,
      "outputs": []
    },
    {
      "cell_type": "code",
      "source": [
        "plt.plot(history.history['accuracy'],\n",
        "         label='Доля верных ответов на обучающем наборе')\n",
        "plt.plot(history.history['val_accuracy'],\n",
        "         label='Доля верных ответов на проверочном наборе')\n",
        "plt.xlabel('Эпоха обучения')\n",
        "plt.ylabel('Доля верных ответов')\n",
        "plt.legend()\n",
        "plt.show()"
      ],
      "metadata": {
        "trusted": true,
        "id": "HPhKcuxj0vAD"
      },
      "execution_count": null,
      "outputs": []
    },
    {
      "cell_type": "markdown",
      "source": [
        "## Готовим данные для LeaderBoard"
      ],
      "metadata": {
        "id": "vuotUGDE0vAD"
      }
    },
    {
      "cell_type": "code",
      "source": [
        "sample_submission = pd.read_csv(KAGGLE_PATH + 'sample_submission.csv', index_col='id')\n",
        "sample_submission.label = model.predict_classes(x_test)\n",
        "sample_submission.to_csv(\"sample_submission.csv\")"
      ],
      "metadata": {
        "trusted": true,
        "id": "SNQlEWYU0vAD"
      },
      "execution_count": null,
      "outputs": []
    }
  ]
}