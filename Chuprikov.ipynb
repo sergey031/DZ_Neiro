{
 "cells": [
  {
   "cell_type": "code",
   "execution_count": 1,
   "metadata": {
    "execution": {
     "iopub.execute_input": "2024-03-03T10:03:39.896345Z",
     "iopub.status.busy": "2024-03-03T10:03:39.895091Z",
     "iopub.status.idle": "2024-03-03T10:03:39.900608Z",
     "shell.execute_reply": "2024-03-03T10:03:39.901707Z",
     "shell.execute_reply.started": "2024-03-03T09:56:59.607573Z"
    },
    "papermill": {
     "duration": 0.057301,
     "end_time": "2024-03-03T10:03:39.901933",
     "exception": false,
     "start_time": "2024-03-03T10:03:39.844632",
     "status": "completed"
    },
    "tags": []
   },
   "outputs": [],
   "source": [
    "# Распознавание предметов одежды из набора MNIST"
   ]
  },
  {
   "cell_type": "markdown",
   "metadata": {
    "papermill": {
     "duration": 0.040902,
     "end_time": "2024-03-03T10:03:39.984719",
     "exception": false,
     "start_time": "2024-03-03T10:03:39.943817",
     "status": "completed"
    },
    "tags": []
   },
   "source": [
    "Импортируем необходимые библиотеки"
   ]
  },
  {
   "cell_type": "code",
   "execution_count": 2,
   "metadata": {
    "_cell_guid": "b1076dfc-b9ad-4769-8c92-a6c4dae69d19",
    "_uuid": "8f2839f25d086af736a60e9eeb907d3b93b6e0e5",
    "execution": {
     "iopub.execute_input": "2024-03-03T10:03:40.072226Z",
     "iopub.status.busy": "2024-03-03T10:03:40.071040Z",
     "iopub.status.idle": "2024-03-03T10:03:46.763438Z",
     "shell.execute_reply": "2024-03-03T10:03:46.762484Z",
     "shell.execute_reply.started": "2024-03-03T09:57:02.016217Z"
    },
    "papermill": {
     "duration": 6.737458,
     "end_time": "2024-03-03T10:03:46.763651",
     "exception": false,
     "start_time": "2024-03-03T10:03:40.026193",
     "status": "completed"
    },
    "tags": []
   },
   "outputs": [
    {
     "name": "stdout",
     "output_type": "stream",
     "text": [
      "/kaggle/input/nnfashinmnist/sample_submission.csv\n",
      "/kaggle/input/nnfashinmnist/train.csv\n",
      "/kaggle/input/nnfashinmnist/test.csv\n"
     ]
    }
   ],
   "source": [
    "\"\"\" объект последовательной модели нейронной сети \"\"\"\n",
    "from tensorflow.keras.models import Sequential\n",
    "\"\"\" полносвязный слой нейронной сети \"\"\"\n",
    "from tensorflow.keras.layers import Dense\n",
    "\"\"\" функции для получения обратной связи во время обучения нейронной сети\"\"\"\n",
    "from tensorflow.keras.callbacks import EarlyStopping, ModelCheckpoint\n",
    "\"\"\" вспомогательный модуль Keras для предварительной обработки данных \"\"\"\n",
    "from tensorflow.keras import utils\n",
    "\"\"\" библиотекf для работы с матрицами (многомерными тензорами) и линейной алгеброй \"\"\"\n",
    "import numpy as np\n",
    "\"\"\" библиотека для считывания и записи файлов в формате \".csv\" и других табличных форматах,\n",
    "    а также для их быстрой и удобной обработки \"\"\"\n",
    "import pandas as pd\n",
    "\"\"\" библиотека для работы с операционной системой \"\"\"\n",
    "import os \n",
    "\n",
    "\"\"\"Зафиксируем генератор случайных чисел. Его не менять!!!\"\"\"\n",
    "from numpy.random import seed\n",
    "seed(2020)\n",
    "from tensorflow.random import set_seed\n",
    "set_seed(2020)\n",
    "\"\"\" библиотека для визуализации данных \"\"\"\n",
    "import matplotlib.pyplot as plt\n",
    "%matplotlib inline \n",
    "\"\"\" посмотрим, какие файлы храняться в директории \"\"\"\n",
    "for dirname, _, filenames in os.walk('/kaggle/input/'):\n",
    "    for filename in filenames:\n",
    "        print(os.path.join(dirname, filename))"
   ]
  },
  {
   "cell_type": "markdown",
   "metadata": {
    "papermill": {
     "duration": 0.043337,
     "end_time": "2024-03-03T10:03:46.850053",
     "exception": false,
     "start_time": "2024-03-03T10:03:46.806716",
     "status": "completed"
    },
    "tags": []
   },
   "source": [
    "Загружаем наборы данных для обучения и тестирования"
   ]
  },
  {
   "cell_type": "code",
   "execution_count": 3,
   "metadata": {
    "execution": {
     "iopub.execute_input": "2024-03-03T10:03:46.945771Z",
     "iopub.status.busy": "2024-03-03T10:03:46.944945Z",
     "iopub.status.idle": "2024-03-03T10:03:55.982986Z",
     "shell.execute_reply": "2024-03-03T10:03:55.984182Z",
     "shell.execute_reply.started": "2024-03-03T09:57:13.832145Z"
    },
    "papermill": {
     "duration": 9.091304,
     "end_time": "2024-03-03T10:03:55.984474",
     "exception": false,
     "start_time": "2024-03-03T10:03:46.893170",
     "status": "completed"
    },
    "tags": []
   },
   "outputs": [],
   "source": [
    "\"\"\"функция \"read_csv\" презназначена для считывания файлов в формате \".csv\"\n",
    "filepath_or_buffer - путь к файлу,\n",
    "index_col - необязательный параметр, который указывает какую колонку использовать, как индекс.\n",
    "Если параметр не указан, что pandas создаст столбец с индексами самостоятельно\n",
    "Подробнее о возможностях функции https://pandas.pydata.org/pandas-docs/stable/reference/api/pandas.read_csv.html\"\"\"\n",
    "train_df = pd.read_csv(filepath_or_buffer='/kaggle/input/nnfashinmnist/train.csv', index_col='id')\n",
    "test_df = pd.read_csv(filepath_or_buffer='/kaggle/input/nnfashinmnist/test.csv', index_col='id')\n",
    "sample_submission = pd.read_csv(filepath_or_buffer='/kaggle/input/nnfashinmnist/sample_submission.csv', index_col='id')\n"
   ]
  },
  {
   "cell_type": "markdown",
   "metadata": {
    "papermill": {
     "duration": 0.042729,
     "end_time": "2024-03-03T10:03:56.074588",
     "exception": false,
     "start_time": "2024-03-03T10:03:56.031859",
     "status": "completed"
    },
    "tags": []
   },
   "source": [
    "Извлекаем данные из таблиц pandas в числовые массивы (векторы и матрицы) numpy, которе можно подать на вход нейронной сети"
   ]
  },
  {
   "cell_type": "code",
   "execution_count": 4,
   "metadata": {
    "execution": {
     "iopub.execute_input": "2024-03-03T10:03:56.171346Z",
     "iopub.status.busy": "2024-03-03T10:03:56.170135Z",
     "iopub.status.idle": "2024-03-03T10:03:56.174509Z",
     "shell.execute_reply": "2024-03-03T10:03:56.173701Z",
     "shell.execute_reply.started": "2024-03-03T09:57:45.592121Z"
    },
    "papermill": {
     "duration": 0.05724,
     "end_time": "2024-03-03T10:03:56.174683",
     "exception": false,
     "start_time": "2024-03-03T10:03:56.117443",
     "status": "completed"
    },
    "tags": []
   },
   "outputs": [],
   "source": [
    "\"\"\"iloc позволяет считать необходимые строки и столбцы, обращаясь к ним не по именам, а по порядковой нумерации\n",
    "Подробнее про функцию iloc https://pandas.pydata.org/pandas-docs/stable/reference/api/pandas.DataFrame.iloc.html\n",
    "Запись train_df['label'], извлекает из всей таблицы столбец с названием 'label' \n",
    ".values - преобразовывает pandas DataFrame (объект таблицы) в numpy массив\"\"\"\n",
    "x_train, y_train = train_df.iloc[:,:-1].values, train_df['label'].values\n",
    "x_test = test_df.values"
   ]
  },
  {
   "cell_type": "markdown",
   "metadata": {
    "papermill": {
     "duration": 0.042735,
     "end_time": "2024-03-03T10:03:56.259518",
     "exception": false,
     "start_time": "2024-03-03T10:03:56.216783",
     "status": "completed"
    },
    "tags": []
   },
   "source": [
    "Проверяем совпадает ли количество признаков в тренировочном и тестовом наборах"
   ]
  },
  {
   "cell_type": "code",
   "execution_count": 5,
   "metadata": {
    "execution": {
     "iopub.execute_input": "2024-03-03T10:03:56.353560Z",
     "iopub.status.busy": "2024-03-03T10:03:56.352413Z",
     "iopub.status.idle": "2024-03-03T10:03:56.356579Z",
     "shell.execute_reply": "2024-03-03T10:03:56.355812Z",
     "shell.execute_reply.started": "2024-03-03T09:58:00.308600Z"
    },
    "papermill": {
     "duration": 0.0533,
     "end_time": "2024-03-03T10:03:56.356721",
     "exception": false,
     "start_time": "2024-03-03T10:03:56.303421",
     "status": "completed"
    },
    "tags": []
   },
   "outputs": [],
   "source": [
    "assert x_train.shape[1] == x_test.shape[1], 'Количество признаков в тренировочном и тестовом наборах должно совпадать'"
   ]
  },
  {
   "cell_type": "markdown",
   "metadata": {
    "papermill": {
     "duration": 0.041423,
     "end_time": "2024-03-03T10:03:56.440101",
     "exception": false,
     "start_time": "2024-03-03T10:03:56.398678",
     "status": "completed"
    },
    "tags": []
   },
   "source": [
    "Создаем соответствие номеров классов с их названиями"
   ]
  },
  {
   "cell_type": "code",
   "execution_count": 6,
   "metadata": {
    "execution": {
     "iopub.execute_input": "2024-03-03T10:03:56.535085Z",
     "iopub.status.busy": "2024-03-03T10:03:56.534272Z",
     "iopub.status.idle": "2024-03-03T10:03:56.538597Z",
     "shell.execute_reply": "2024-03-03T10:03:56.537944Z",
     "shell.execute_reply.started": "2024-03-03T09:58:12.131840Z"
    },
    "papermill": {
     "duration": 0.054187,
     "end_time": "2024-03-03T10:03:56.538733",
     "exception": false,
     "start_time": "2024-03-03T10:03:56.484546",
     "status": "completed"
    },
    "tags": []
   },
   "outputs": [],
   "source": [
    "classes = {0:'футболка', 1:'брюки', 2:'свитер', 3:'платье', 4:'пальто',\n",
    "           5:'туфли', 6:'рубашка', 7:'кроссовки', 8:'сумка', 9:'ботинки'}"
   ]
  },
  {
   "cell_type": "markdown",
   "metadata": {
    "papermill": {
     "duration": 0.041006,
     "end_time": "2024-03-03T10:03:56.621718",
     "exception": false,
     "start_time": "2024-03-03T10:03:56.580712",
     "status": "completed"
    },
    "tags": []
   },
   "source": [
    "Смотрим примеры изображений в наборе"
   ]
  },
  {
   "cell_type": "code",
   "execution_count": 7,
   "metadata": {
    "execution": {
     "iopub.execute_input": "2024-03-03T10:03:56.714750Z",
     "iopub.status.busy": "2024-03-03T10:03:56.713838Z",
     "iopub.status.idle": "2024-03-03T10:03:59.045084Z",
     "shell.execute_reply": "2024-03-03T10:03:59.045718Z",
     "shell.execute_reply.started": "2024-03-03T09:58:24.395185Z"
    },
    "papermill": {
     "duration": 2.382674,
     "end_time": "2024-03-03T10:03:59.045892",
     "exception": false,
     "start_time": "2024-03-03T10:03:56.663218",
     "status": "completed"
    },
    "tags": []
   },
   "outputs": [
    {
     "data": {
      "image/png": "[encoded data removed]",
      "text/plain": [
       "<Figure size 720x720 with 50 Axes>"
      ]
     },
     "metadata": {},
     "output_type": "display_data"
    }
   ],
   "source": [
    "plt.figure(figsize=(10,10))\n",
    "for i in range(100,150):\n",
    "    plt.subplot(5,10,i-100+1)\n",
    "    plt.xticks([])\n",
    "    plt.yticks([])\n",
    "    plt.grid(False)\n",
    "    plt.imshow(x_train[i].reshape((28,28)), cmap=plt.cm.binary)\n",
    "    plt.xlabel(classes[y_train[i]])"
   ]
  },
  {
   "cell_type": "markdown",
   "metadata": {
    "papermill": {
     "duration": 0.046451,
     "end_time": "2024-03-03T10:03:59.139257",
     "exception": false,
     "start_time": "2024-03-03T10:03:59.092806",
     "status": "completed"
    },
    "tags": []
   },
   "source": [
    "Нормализация данных"
   ]
  },
  {
   "cell_type": "code",
   "execution_count": 8,
   "metadata": {
    "execution": {
     "iopub.execute_input": "2024-03-03T10:03:59.239993Z",
     "iopub.status.busy": "2024-03-03T10:03:59.238802Z",
     "iopub.status.idle": "2024-03-03T10:03:59.446360Z",
     "shell.execute_reply": "2024-03-03T10:03:59.445475Z",
     "shell.execute_reply.started": "2024-03-03T09:58:40.394128Z"
    },
    "papermill": {
     "duration": 0.260868,
     "end_time": "2024-03-03T10:03:59.446565",
     "exception": false,
     "start_time": "2024-03-03T10:03:59.185697",
     "status": "completed"
    },
    "tags": []
   },
   "outputs": [],
   "source": [
    "# Векторизованные операции\n",
    "# Применяются к каждому элементу массива отдельно\n",
    "x_train = x_train / 255.0\n",
    "# Все преобразования с тренировочным наборам повторяем и для тестового\n",
    "x_test = x_test / 255.0"
   ]
  },
  {
   "cell_type": "markdown",
   "metadata": {
    "papermill": {
     "duration": 0.047145,
     "end_time": "2024-03-03T10:03:59.542403",
     "exception": false,
     "start_time": "2024-03-03T10:03:59.495258",
     "status": "completed"
    },
    "tags": []
   },
   "source": [
    "Работа с метками правильных ответов"
   ]
  },
  {
   "cell_type": "code",
   "execution_count": 9,
   "metadata": {
    "execution": {
     "iopub.execute_input": "2024-03-03T10:03:59.643849Z",
     "iopub.status.busy": "2024-03-03T10:03:59.643044Z",
     "iopub.status.idle": "2024-03-03T10:03:59.648402Z",
     "shell.execute_reply": "2024-03-03T10:03:59.647739Z",
     "shell.execute_reply.started": "2024-03-03T09:58:50.573768Z"
    },
    "papermill": {
     "duration": 0.057207,
     "end_time": "2024-03-03T10:03:59.648564",
     "exception": false,
     "start_time": "2024-03-03T10:03:59.591357",
     "status": "completed"
    },
    "tags": []
   },
   "outputs": [
    {
     "name": "stdout",
     "output_type": "stream",
     "text": [
      "7\n"
     ]
    }
   ],
   "source": [
    "print(y_train[100])"
   ]
  },
  {
   "cell_type": "markdown",
   "metadata": {
    "papermill": {
     "duration": 0.046275,
     "end_time": "2024-03-03T10:03:59.742127",
     "exception": false,
     "start_time": "2024-03-03T10:03:59.695852",
     "status": "completed"
    },
    "tags": []
   },
   "source": [
    "**Преобразуем метки в формат one hot encoding**"
   ]
  },
  {
   "cell_type": "code",
   "execution_count": 10,
   "metadata": {
    "execution": {
     "iopub.execute_input": "2024-03-03T10:03:59.841700Z",
     "iopub.status.busy": "2024-03-03T10:03:59.840886Z",
     "iopub.status.idle": "2024-03-03T10:03:59.845698Z",
     "shell.execute_reply": "2024-03-03T10:03:59.846449Z",
     "shell.execute_reply.started": "2024-03-03T09:59:01.646930Z"
    },
    "papermill": {
     "duration": 0.057846,
     "end_time": "2024-03-03T10:03:59.846665",
     "exception": false,
     "start_time": "2024-03-03T10:03:59.788819",
     "status": "completed"
    },
    "tags": []
   },
   "outputs": [],
   "source": [
    "y_train = utils.to_categorical(y_train)"
   ]
  },
  {
   "cell_type": "markdown",
   "metadata": {
    "papermill": {
     "duration": 0.047035,
     "end_time": "2024-03-03T10:03:59.941136",
     "exception": false,
     "start_time": "2024-03-03T10:03:59.894101",
     "status": "completed"
    },
    "tags": []
   },
   "source": [
    "Правильный ответ в формате one hot encoding"
   ]
  },
  {
   "cell_type": "code",
   "execution_count": 11,
   "metadata": {
    "execution": {
     "iopub.execute_input": "2024-03-03T10:04:00.038615Z",
     "iopub.status.busy": "2024-03-03T10:04:00.037817Z",
     "iopub.status.idle": "2024-03-03T10:04:00.044310Z",
     "shell.execute_reply": "2024-03-03T10:04:00.045079Z",
     "shell.execute_reply.started": "2024-03-03T09:59:10.654094Z"
    },
    "papermill": {
     "duration": 0.057155,
     "end_time": "2024-03-03T10:04:00.045263",
     "exception": false,
     "start_time": "2024-03-03T10:03:59.988108",
     "status": "completed"
    },
    "tags": []
   },
   "outputs": [
    {
     "name": "stdout",
     "output_type": "stream",
     "text": [
      "[0. 0. 0. 0. 0. 0. 0. 1. 0. 0.]\n"
     ]
    }
   ],
   "source": [
    "print(y_train[100])"
   ]
  },
  {
   "cell_type": "markdown",
   "metadata": {
    "papermill": {
     "duration": 0.050298,
     "end_time": "2024-03-03T10:04:00.148330",
     "exception": false,
     "start_time": "2024-03-03T10:04:00.098032",
     "status": "completed"
    },
    "tags": []
   },
   "source": [
    "## Создаем нейронную сеть"
   ]
  },
  {
   "cell_type": "markdown",
   "metadata": {
    "papermill": {
     "duration": 0.046651,
     "end_time": "2024-03-03T10:04:00.243611",
     "exception": false,
     "start_time": "2024-03-03T10:04:00.196960",
     "status": "completed"
    },
    "tags": []
   },
   "source": [
    "**Описываем архитектуру нейронной сети**"
   ]
  },
  {
   "cell_type": "code",
   "execution_count": 12,
   "metadata": {
    "execution": {
     "iopub.execute_input": "2024-03-03T10:04:00.346947Z",
     "iopub.status.busy": "2024-03-03T10:04:00.345683Z",
     "iopub.status.idle": "2024-03-03T10:04:00.473089Z",
     "shell.execute_reply": "2024-03-03T10:04:00.472174Z",
     "shell.execute_reply.started": "2024-03-03T09:59:20.830409Z"
    },
    "papermill": {
     "duration": 0.181139,
     "end_time": "2024-03-03T10:04:00.473258",
     "exception": false,
     "start_time": "2024-03-03T10:04:00.292119",
     "status": "completed"
    },
    "tags": []
   },
   "outputs": [],
   "source": [
    "# Создаем последовательную модель\n",
    "model = Sequential()\n",
    "# Входной полносвязный слой, 800 нейронов, 784 входа в каждый нейрон\n",
    "model.add(Dense(units=800, input_dim=784, activation=\"relu\"))\n",
    "# Выходной полносвязный слой, 10 нейронов (по количеству рукописных цифр)\n",
    "model.add(Dense(units=10, activation=\"softmax\"))"
   ]
  },
  {
   "cell_type": "markdown",
   "metadata": {
    "papermill": {
     "duration": 0.062375,
     "end_time": "2024-03-03T10:04:00.590364",
     "exception": false,
     "start_time": "2024-03-03T10:04:00.527989",
     "status": "completed"
    },
    "tags": []
   },
   "source": [
    "**Компилируем сеть**"
   ]
  },
  {
   "cell_type": "code",
   "execution_count": 13,
   "metadata": {
    "execution": {
     "iopub.execute_input": "2024-03-03T10:04:00.700348Z",
     "iopub.status.busy": "2024-03-03T10:04:00.694986Z",
     "iopub.status.idle": "2024-03-03T10:04:00.713279Z",
     "shell.execute_reply": "2024-03-03T10:04:00.712604Z",
     "shell.execute_reply.started": "2024-03-03T09:59:31.225268Z"
    },
    "papermill": {
     "duration": 0.075489,
     "end_time": "2024-03-03T10:04:00.713436",
     "exception": false,
     "start_time": "2024-03-03T10:04:00.637947",
     "status": "completed"
    },
    "tags": []
   },
   "outputs": [
    {
     "name": "stdout",
     "output_type": "stream",
     "text": [
      "Model: \"sequential\"\n",
      "_________________________________________________________________\n",
      "Layer (type)                 Output Shape              Param #   \n",
      "=================================================================\n",
      "dense (Dense)                (None, 800)               628000    \n",
      "_________________________________________________________________\n",
      "dense_1 (Dense)              (None, 10)                8010      \n",
      "=================================================================\n",
      "Total params: 636,010\n",
      "Trainable params: 636,010\n",
      "Non-trainable params: 0\n",
      "_________________________________________________________________\n",
      "None\n"
     ]
    }
   ],
   "source": [
    "model.compile(loss=\"categorical_crossentropy\", optimizer=\"Adam\", metrics=[\"accuracy\"])\n",
    "print(model.summary())"
   ]
  },
  {
   "cell_type": "markdown",
   "metadata": {
    "papermill": {
     "duration": 0.052982,
     "end_time": "2024-03-03T10:04:00.816259",
     "exception": false,
     "start_time": "2024-03-03T10:04:00.763277",
     "status": "completed"
    },
    "tags": []
   },
   "source": [
    "## Обучаем нейронную сеть[](http://)"
   ]
  },
  {
   "cell_type": "markdown",
   "metadata": {
    "papermill": {
     "duration": 0.05437,
     "end_time": "2024-03-03T10:04:00.922991",
     "exception": false,
     "start_time": "2024-03-03T10:04:00.868621",
     "status": "completed"
    },
    "tags": []
   },
   "source": [
    "Обычный подход"
   ]
  },
  {
   "cell_type": "code",
   "execution_count": 14,
   "metadata": {
    "execution": {
     "iopub.execute_input": "2024-03-03T10:04:01.031403Z",
     "iopub.status.busy": "2024-03-03T10:04:01.030278Z",
     "iopub.status.idle": "2024-03-03T10:05:42.758657Z",
     "shell.execute_reply": "2024-03-03T10:05:42.756907Z",
     "shell.execute_reply.started": "2024-03-03T09:59:42.387039Z"
    },
    "papermill": {
     "duration": 101.783716,
     "end_time": "2024-03-03T10:05:42.758935",
     "exception": false,
     "start_time": "2024-03-03T10:04:00.975219",
     "status": "completed"
    },
    "tags": []
   },
   "outputs": [
    {
     "name": "stdout",
     "output_type": "stream",
     "text": [
      "Epoch 1/30\n",
      "329/329 [==============================] - 3s 10ms/step - loss: 0.5108 - accuracy: 0.8192\n",
      "Epoch 2/30\n",
      "329/329 [==============================] - 3s 10ms/step - loss: 0.3713 - accuracy: 0.8665\n",
      "Epoch 3/30\n",
      "329/329 [==============================] - 3s 10ms/step - loss: 0.3400 - accuracy: 0.8775\n",
      "Epoch 4/30\n",
      "329/329 [==============================] - 3s 10ms/step - loss: 0.3088 - accuracy: 0.8869\n",
      "Epoch 5/30\n",
      "329/329 [==============================] - 3s 10ms/step - loss: 0.2891 - accuracy: 0.8933\n",
      "Epoch 6/30\n",
      "329/329 [==============================] - 3s 10ms/step - loss: 0.2744 - accuracy: 0.8978\n",
      "Epoch 7/30\n",
      "329/329 [==============================] - 3s 10ms/step - loss: 0.2614 - accuracy: 0.9040\n",
      "Epoch 8/30\n",
      "329/329 [==============================] - 4s 11ms/step - loss: 0.2515 - accuracy: 0.9072\n",
      "Epoch 9/30\n",
      "329/329 [==============================] - 3s 10ms/step - loss: 0.2389 - accuracy: 0.9105\n",
      "Epoch 10/30\n",
      "329/329 [==============================] - 3s 10ms/step - loss: 0.2284 - accuracy: 0.9159\n",
      "Epoch 11/30\n",
      "329/329 [==============================] - 3s 10ms/step - loss: 0.2181 - accuracy: 0.9196\n",
      "Epoch 12/30\n",
      "329/329 [==============================] - 3s 10ms/step - loss: 0.2107 - accuracy: 0.9210\n",
      "Epoch 13/30\n",
      "329/329 [==============================] - 3s 10ms/step - loss: 0.2067 - accuracy: 0.9240\n",
      "Epoch 14/30\n",
      "329/329 [==============================] - 3s 10ms/step - loss: 0.1966 - accuracy: 0.9267\n",
      "Epoch 15/30\n",
      "329/329 [==============================] - 3s 10ms/step - loss: 0.1899 - accuracy: 0.9298\n",
      "Epoch 16/30\n",
      "329/329 [==============================] - 3s 10ms/step - loss: 0.1825 - accuracy: 0.9319\n",
      "Epoch 17/30\n",
      "329/329 [==============================] - 3s 10ms/step - loss: 0.1754 - accuracy: 0.9358\n",
      "Epoch 18/30\n",
      "329/329 [==============================] - 4s 11ms/step - loss: 0.1721 - accuracy: 0.9358\n",
      "Epoch 19/30\n",
      "329/329 [==============================] - 3s 10ms/step - loss: 0.1630 - accuracy: 0.9396\n",
      "Epoch 20/30\n",
      "329/329 [==============================] - 3s 10ms/step - loss: 0.1592 - accuracy: 0.9414\n",
      "Epoch 21/30\n",
      "329/329 [==============================] - 3s 10ms/step - loss: 0.1529 - accuracy: 0.9435\n",
      "Epoch 22/30\n",
      "329/329 [==============================] - 3s 10ms/step - loss: 0.1485 - accuracy: 0.9445\n",
      "Epoch 23/30\n",
      "329/329 [==============================] - 3s 10ms/step - loss: 0.1436 - accuracy: 0.9457\n",
      "Epoch 24/30\n",
      "329/329 [==============================] - 3s 10ms/step - loss: 0.1383 - accuracy: 0.9489\n",
      "Epoch 25/30\n",
      "329/329 [==============================] - 3s 10ms/step - loss: 0.1376 - accuracy: 0.9483\n",
      "Epoch 26/30\n",
      "329/329 [==============================] - 3s 10ms/step - loss: 0.1305 - accuracy: 0.9523\n",
      "Epoch 27/30\n",
      "329/329 [==============================] - 4s 11ms/step - loss: 0.1256 - accuracy: 0.9535\n",
      "Epoch 28/30\n",
      "329/329 [==============================] - 3s 10ms/step - loss: 0.1219 - accuracy: 0.9548\n",
      "Epoch 29/30\n",
      "329/329 [==============================] - 3s 10ms/step - loss: 0.1173 - accuracy: 0.9564\n",
      "Epoch 30/30\n",
      "329/329 [==============================] - 3s 10ms/step - loss: 0.1144 - accuracy: 0.9587\n"
     ]
    },
    {
     "data": {
      "text/plain": [
       "<tensorflow.python.keras.callbacks.History at 0x7b8953f8ad50>"
      ]
     },
     "execution_count": 14,
     "metadata": {},
     "output_type": "execute_result"
    }
   ],
   "source": [
    "model.fit(x_train, y_train, \n",
    "          batch_size=200, \n",
    "          epochs=30,  \n",
    "          verbose=1)"
   ]
  },
  {
   "cell_type": "markdown",
   "metadata": {
    "papermill": {
     "duration": 0.807585,
     "end_time": "2024-03-03T10:05:44.431943",
     "exception": false,
     "start_time": "2024-03-03T10:05:43.624358",
     "status": "completed"
    },
    "tags": []
   },
   "source": [
    "## Подход с применением обратной связи"
   ]
  },
  {
   "cell_type": "markdown",
   "metadata": {
    "papermill": {
     "duration": 0.809974,
     "end_time": "2024-03-03T10:05:46.120259",
     "exception": false,
     "start_time": "2024-03-03T10:05:45.310285",
     "status": "completed"
    },
    "tags": []
   },
   "source": [
    "В процессе обучения нейронной сети, мы можем следить за изменением ее показателей и как-то реагировать на эту обратную связь.\n",
    "Например, если мы видим, что нейронная сеть уже 5 эпох подряд не улучшает свой результат (loss не уменьшается или accuracy не растет), то возможно нет смысла учиться дальше и мы хотели бы остановить процесс обучения. Но нейронная сеть учиться столько эпох, сколько мы указали.\n",
    "### Чтобы избежать такого лишнего обучения, можно использовать метод **EarlyStopping** (ранний останов).\n",
    "* С помощью параметра **monitor** она следит за указанной величиной: loss или accuracy.\n",
    "* С помощью параметра **patience** мы указываем через сколько эпох обучения без улучшения мы хотим прекратить процесс обучения. Таким образом мы можем избежать траты лишних ресурсов и времени\n",
    "* С помощью параметра **restore_best_weights=True** можно сохранить лучшие веса модели, а не последние."
   ]
  },
  {
   "cell_type": "markdown",
   "metadata": {
    "papermill": {
     "duration": 0.803031,
     "end_time": "2024-03-03T10:05:47.748519",
     "exception": false,
     "start_time": "2024-03-03T10:05:46.945488",
     "status": "completed"
    },
    "tags": []
   },
   "source": [
    "Может оказаться, что на более ранней эпохе у модели было лучшее качество, чем на более поздней эпохе. Но сейчас мы получаем модель с весами, обученными на последней эпохе.\n",
    "### Чтобы сохранить самую лучшую модель, можно использовать ModelCheckpoint\n",
    "* filepath - путь для сохранения лучшей модели\n",
    "* monitor - параметр, за которым мы будем следить: loss, accuracy\n",
    "* save_best_only=True - говорит о том, что мы хотим сохранить лишь лучшую модель"
   ]
  },
  {
   "cell_type": "code",
   "execution_count": 15,
   "metadata": {
    "execution": {
     "iopub.execute_input": "2024-03-03T10:05:49.387426Z",
     "iopub.status.busy": "2024-03-03T10:05:49.386222Z",
     "iopub.status.idle": "2024-03-03T10:05:49.392379Z",
     "shell.execute_reply": "2024-03-03T10:05:49.391622Z",
     "shell.execute_reply.started": "2024-03-03T10:01:34.799526Z"
    },
    "papermill": {
     "duration": 0.82582,
     "end_time": "2024-03-03T10:05:49.392548",
     "exception": false,
     "start_time": "2024-03-03T10:05:48.566728",
     "status": "completed"
    },
    "tags": []
   },
   "outputs": [
    {
     "data": {
      "text/plain": [
       "'Если вы хотите применить подход с обратной связью,\\n    то снимите комментарии со следующего кода.\\n    Попробуйте менять параметры monitor и patience'"
      ]
     },
     "execution_count": 15,
     "metadata": {},
     "output_type": "execute_result"
    }
   ],
   "source": [
    "\"\"\"Если вы хотите применить подход с обратной связью,\n",
    "    то снимите комментарии со следующего кода.\n",
    "    Попробуйте менять параметры monitor и patience\"\"\"\n",
    "# # Создаем последовательную модель\n",
    "# model = Sequential()\n",
    "# # Входной полносвязный слой, 800 нейронов, 784 входа в каждый нейрон\n",
    "# model.add(Dense(units=800, input_dim=784, activation=\"relu\"))\n",
    "# # Выходной полносвязный слой, 10 нейронов (по количеству рукописных цифр)\n",
    "# model.add(Dense(units=10, activation=\"softmax\"))\n",
    "# # компилируем модель\n",
    "# model.compile(loss=\"categorical_crossentropy\", optimizer=\"SGD\", metrics=[\"accuracy\"])\n",
    "# print(model.summary())\n",
    "# # создаем лист с обратными связями\n",
    "# # в случае restore_best_weights=True, применять  ModelCheckpoint не нужно\n",
    "# callbacks_list = [EarlyStopping(monitor='loss', patience=5, restore_best_weights=True),\n",
    "#                   ModelCheckpoint(filepath='my_model.h5',\n",
    "#                                   monitor='loss',\n",
    "#                                   save_best_only=True),\n",
    "#                  ]\n",
    "# # добавляем лист с обратными связями в параметр callbacks\n",
    "# model.fit(x_train, y_train,\n",
    "#             batch_size=200,\n",
    "#             epochs=10,\n",
    "#             callbacks=callbacks_list,\n",
    "#             verbose=1)"
   ]
  },
  {
   "cell_type": "markdown",
   "metadata": {
    "papermill": {
     "duration": 0.840919,
     "end_time": "2024-03-03T10:05:51.043189",
     "exception": false,
     "start_time": "2024-03-03T10:05:50.202270",
     "status": "completed"
    },
    "tags": []
   },
   "source": [
    "## Используем сеть для распознавания моделей одежды"
   ]
  },
  {
   "cell_type": "markdown",
   "metadata": {
    "papermill": {
     "duration": 0.80811,
     "end_time": "2024-03-03T10:05:52.662420",
     "exception": false,
     "start_time": "2024-03-03T10:05:51.854310",
     "status": "completed"
    },
    "tags": []
   },
   "source": [
    "**Запускаем распознавание набора данных, на котором обучалась сеть**"
   ]
  },
  {
   "cell_type": "code",
   "execution_count": 16,
   "metadata": {
    "execution": {
     "iopub.execute_input": "2024-03-03T10:05:54.297468Z",
     "iopub.status.busy": "2024-03-03T10:05:54.296321Z",
     "iopub.status.idle": "2024-03-03T10:05:59.030324Z",
     "shell.execute_reply": "2024-03-03T10:05:59.031283Z",
     "shell.execute_reply.started": "2024-03-03T10:01:46.680138Z"
    },
    "papermill": {
     "duration": 5.554784,
     "end_time": "2024-03-03T10:05:59.031481",
     "exception": false,
     "start_time": "2024-03-03T10:05:53.476697",
     "status": "completed"
    },
    "tags": []
   },
   "outputs": [],
   "source": [
    "predictions = model.predict(x_train)"
   ]
  },
  {
   "cell_type": "markdown",
   "metadata": {
    "papermill": {
     "duration": 0.876445,
     "end_time": "2024-03-03T10:06:00.732331",
     "exception": false,
     "start_time": "2024-03-03T10:05:59.855886",
     "status": "completed"
    },
    "tags": []
   },
   "source": [
    "**Проверяем качество распознавания**\n",
    "\n",
    "Просматриваем пример изображения"
   ]
  },
  {
   "cell_type": "code",
   "execution_count": 17,
   "metadata": {
    "execution": {
     "iopub.execute_input": "2024-03-03T10:06:02.396643Z",
     "iopub.status.busy": "2024-03-03T10:06:02.395753Z",
     "iopub.status.idle": "2024-03-03T10:06:02.601864Z",
     "shell.execute_reply": "2024-03-03T10:06:02.600915Z",
     "shell.execute_reply.started": "2024-03-03T10:01:54.824252Z"
    },
    "papermill": {
     "duration": 1.042688,
     "end_time": "2024-03-03T10:06:02.602100",
     "exception": false,
     "start_time": "2024-03-03T10:06:01.559412",
     "status": "completed"
    },
    "tags": []
   },
   "outputs": [
    {
     "data": {
      "image/png": "[encoded data removed]",
      "text/plain": [
       "<Figure size 432x288 with 1 Axes>"
      ]
     },
     "metadata": {
      "needs_background": "light"
     },
     "output_type": "display_data"
    }
   ],
   "source": [
    "# Меняйте значение n чтобы просмотреть результаты распознавания других изображений\n",
    "n = 2020\n",
    "plt.imshow(x_train[n].reshape(28, 28), cmap=plt.cm.binary)\n",
    "plt.show()"
   ]
  },
  {
   "cell_type": "markdown",
   "metadata": {
    "papermill": {
     "duration": 0.844181,
     "end_time": "2024-03-03T10:06:04.354329",
     "exception": false,
     "start_time": "2024-03-03T10:06:03.510148",
     "status": "completed"
    },
    "tags": []
   },
   "source": [
    "Данные на выходе из сети в формате one-hot-encoding"
   ]
  },
  {
   "cell_type": "code",
   "execution_count": 18,
   "metadata": {
    "execution": {
     "iopub.execute_input": "2024-03-03T10:06:05.977982Z",
     "iopub.status.busy": "2024-03-03T10:06:05.976963Z",
     "iopub.status.idle": "2024-03-03T10:06:05.981304Z",
     "shell.execute_reply": "2024-03-03T10:06:05.980638Z",
     "shell.execute_reply.started": "2024-03-03T10:02:04.516932Z"
    },
    "papermill": {
     "duration": 0.815232,
     "end_time": "2024-03-03T10:06:05.981450",
     "exception": false,
     "start_time": "2024-03-03T10:06:05.166218",
     "status": "completed"
    },
    "tags": []
   },
   "outputs": [
    {
     "name": "stdout",
     "output_type": "stream",
     "text": [
      "[2.1530309e-11 2.9449286e-14 2.9122615e-15 1.9494172e-11 5.2463719e-13\n",
      " 9.9158430e-01 6.0810197e-11 8.4156953e-03 8.5152649e-09 8.9226232e-10]\n"
     ]
    }
   ],
   "source": [
    "print(predictions[n])"
   ]
  },
  {
   "cell_type": "markdown",
   "metadata": {
    "papermill": {
     "duration": 0.809678,
     "end_time": "2024-03-03T10:06:07.653513",
     "exception": false,
     "start_time": "2024-03-03T10:06:06.843835",
     "status": "completed"
    },
    "tags": []
   },
   "source": [
    "Определяем номер класса изображения, который предлагает сеть"
   ]
  },
  {
   "cell_type": "code",
   "execution_count": 19,
   "metadata": {
    "execution": {
     "iopub.execute_input": "2024-03-03T10:06:09.284157Z",
     "iopub.status.busy": "2024-03-03T10:06:09.283264Z",
     "iopub.status.idle": "2024-03-03T10:06:09.291198Z",
     "shell.execute_reply": "2024-03-03T10:06:09.290376Z",
     "shell.execute_reply.started": "2024-03-03T10:02:14.374000Z"
    },
    "papermill": {
     "duration": 0.819436,
     "end_time": "2024-03-03T10:06:09.291344",
     "exception": false,
     "start_time": "2024-03-03T10:06:08.471908",
     "status": "completed"
    },
    "tags": []
   },
   "outputs": [
    {
     "data": {
      "text/plain": [
       "5"
      ]
     },
     "execution_count": 19,
     "metadata": {},
     "output_type": "execute_result"
    }
   ],
   "source": [
    "\"\"\"argmax - находит максимальный элемент массива и возвращает его номер в массиве\"\"\"\n",
    "np.argmax(predictions[n])"
   ]
  },
  {
   "cell_type": "markdown",
   "metadata": {
    "papermill": {
     "duration": 0.831117,
     "end_time": "2024-03-03T10:06:10.928057",
     "exception": false,
     "start_time": "2024-03-03T10:06:10.096940",
     "status": "completed"
    },
    "tags": []
   },
   "source": [
    "Печатаем название класса"
   ]
  },
  {
   "cell_type": "code",
   "execution_count": 20,
   "metadata": {
    "execution": {
     "iopub.execute_input": "2024-03-03T10:06:12.553871Z",
     "iopub.status.busy": "2024-03-03T10:06:12.552214Z",
     "iopub.status.idle": "2024-03-03T10:06:12.558227Z",
     "shell.execute_reply": "2024-03-03T10:06:12.557594Z",
     "shell.execute_reply.started": "2024-03-03T10:02:22.645859Z"
    },
    "papermill": {
     "duration": 0.827704,
     "end_time": "2024-03-03T10:06:12.558368",
     "exception": false,
     "start_time": "2024-03-03T10:06:11.730664",
     "status": "completed"
    },
    "tags": []
   },
   "outputs": [
    {
     "data": {
      "text/plain": [
       "'туфли'"
      ]
     },
     "execution_count": 20,
     "metadata": {},
     "output_type": "execute_result"
    }
   ],
   "source": [
    "\"\"\"Передаем в словарь classes номер максимального элемента предсказанного сетью\n",
    "Словарь возвращает название класса, который скрыт за этим номером\"\"\"\n",
    "classes[np.argmax(predictions[n])]"
   ]
  },
  {
   "cell_type": "markdown",
   "metadata": {
    "papermill": {
     "duration": 0.813112,
     "end_time": "2024-03-03T10:06:14.186642",
     "exception": false,
     "start_time": "2024-03-03T10:06:13.373530",
     "status": "completed"
    },
    "tags": []
   },
   "source": [
    "Печатаем номер класса правильного ответа"
   ]
  },
  {
   "cell_type": "code",
   "execution_count": 21,
   "metadata": {
    "execution": {
     "iopub.execute_input": "2024-03-03T10:06:15.812009Z",
     "iopub.status.busy": "2024-03-03T10:06:15.810885Z",
     "iopub.status.idle": "2024-03-03T10:06:15.817172Z",
     "shell.execute_reply": "2024-03-03T10:06:15.816343Z",
     "shell.execute_reply.started": "2024-03-03T10:02:48.806506Z"
    },
    "papermill": {
     "duration": 0.825405,
     "end_time": "2024-03-03T10:06:15.817319",
     "exception": false,
     "start_time": "2024-03-03T10:06:14.991914",
     "status": "completed"
    },
    "tags": []
   },
   "outputs": [
    {
     "data": {
      "text/plain": [
       "5"
      ]
     },
     "execution_count": 21,
     "metadata": {},
     "output_type": "execute_result"
    }
   ],
   "source": [
    "np.argmax(y_train[n])"
   ]
  },
  {
   "cell_type": "markdown",
   "metadata": {
    "papermill": {
     "duration": 0.806549,
     "end_time": "2024-03-03T10:06:17.434635",
     "exception": false,
     "start_time": "2024-03-03T10:06:16.628086",
     "status": "completed"
    },
    "tags": []
   },
   "source": [
    "Печатаем название класса правильного ответа"
   ]
  },
  {
   "cell_type": "code",
   "execution_count": 22,
   "metadata": {
    "execution": {
     "iopub.execute_input": "2024-03-03T10:06:19.050923Z",
     "iopub.status.busy": "2024-03-03T10:06:19.049656Z",
     "iopub.status.idle": "2024-03-03T10:06:19.054971Z",
     "shell.execute_reply": "2024-03-03T10:06:19.054334Z",
     "shell.execute_reply.started": "2024-03-03T10:02:51.031922Z"
    },
    "papermill": {
     "duration": 0.816031,
     "end_time": "2024-03-03T10:06:19.055118",
     "exception": false,
     "start_time": "2024-03-03T10:06:18.239087",
     "status": "completed"
    },
    "tags": []
   },
   "outputs": [
    {
     "data": {
      "text/plain": [
       "'туфли'"
      ]
     },
     "execution_count": 22,
     "metadata": {},
     "output_type": "execute_result"
    }
   ],
   "source": [
    "classes[np.argmax(y_train[n])]"
   ]
  },
  {
   "cell_type": "markdown",
   "metadata": {
    "papermill": {
     "duration": 0.902675,
     "end_time": "2024-03-03T10:06:20.766199",
     "exception": false,
     "start_time": "2024-03-03T10:06:19.863524",
     "status": "completed"
    },
    "tags": []
   },
   "source": [
    "## Готовим данные для теста на liderboard"
   ]
  },
  {
   "cell_type": "markdown",
   "metadata": {
    "papermill": {
     "duration": 0.81219,
     "end_time": "2024-03-03T10:06:22.393971",
     "exception": false,
     "start_time": "2024-03-03T10:06:21.581781",
     "status": "completed"
    },
    "tags": []
   },
   "source": [
    "Распознаем тестовый набор данных"
   ]
  },
  {
   "cell_type": "code",
   "execution_count": 23,
   "metadata": {
    "execution": {
     "iopub.execute_input": "2024-03-03T10:06:24.026331Z",
     "iopub.status.busy": "2024-03-03T10:06:24.025554Z",
     "iopub.status.idle": "2024-03-03T10:06:24.706534Z",
     "shell.execute_reply": "2024-03-03T10:06:24.707107Z",
     "shell.execute_reply.started": "2024-03-03T10:02:55.049784Z"
    },
    "papermill": {
     "duration": 1.509273,
     "end_time": "2024-03-03T10:06:24.707312",
     "exception": false,
     "start_time": "2024-03-03T10:06:23.198039",
     "status": "completed"
    },
    "tags": []
   },
   "outputs": [
    {
     "data": {
      "text/plain": [
       "array([0, 2, 7, ..., 6, 0, 5])"
      ]
     },
     "execution_count": 23,
     "metadata": {},
     "output_type": "execute_result"
    }
   ],
   "source": [
    "\"\"\"делаем предсказания по всем тестовым данным\"\"\"\n",
    "predictions = model.predict(x_test)\n",
    "\"\"\"извлекаем номера предсказаний с максимальными вероятностями по всем объектам тестового набора\"\"\"\n",
    "predictions = np.argmax(predictions, axis=1)\n",
    "predictions"
   ]
  },
  {
   "cell_type": "markdown",
   "metadata": {
    "papermill": {
     "duration": 0.812987,
     "end_time": "2024-03-03T10:06:26.382712",
     "exception": false,
     "start_time": "2024-03-03T10:06:25.569725",
     "status": "completed"
    },
    "tags": []
   },
   "source": [
    "Пишем результаты предсказаний в шаблон \"sample_submission\""
   ]
  },
  {
   "cell_type": "code",
   "execution_count": 24,
   "metadata": {
    "execution": {
     "iopub.execute_input": "2024-03-03T10:06:28.008988Z",
     "iopub.status.busy": "2024-03-03T10:06:28.007673Z",
     "iopub.status.idle": "2024-03-03T10:06:28.012891Z",
     "shell.execute_reply": "2024-03-03T10:06:28.012051Z",
     "shell.execute_reply.started": "2024-03-03T10:02:57.810623Z"
    },
    "papermill": {
     "duration": 0.824906,
     "end_time": "2024-03-03T10:06:28.013057",
     "exception": false,
     "start_time": "2024-03-03T10:06:27.188151",
     "status": "completed"
    },
    "tags": []
   },
   "outputs": [],
   "source": [
    "\"\"\"используем файл с правильным шаблоном формата записи ответов и пишем в него наши предсказания\"\"\"\n",
    "sample_submission['label'] = predictions"
   ]
  },
  {
   "cell_type": "markdown",
   "metadata": {
    "papermill": {
     "duration": 0.817032,
     "end_time": "2024-03-03T10:06:29.692890",
     "exception": false,
     "start_time": "2024-03-03T10:06:28.875858",
     "status": "completed"
    },
    "tags": []
   },
   "source": [
    "Записываем ответы для проверки на liderboard"
   ]
  },
  {
   "cell_type": "code",
   "execution_count": 25,
   "metadata": {
    "execution": {
     "iopub.execute_input": "2024-03-03T10:06:31.370150Z",
     "iopub.status.busy": "2024-03-03T10:06:31.369085Z",
     "iopub.status.idle": "2024-03-03T10:06:31.685035Z",
     "shell.execute_reply": "2024-03-03T10:06:31.683829Z",
     "shell.execute_reply.started": "2024-03-03T10:03:13.979972Z"
    },
    "papermill": {
     "duration": 1.165798,
     "end_time": "2024-03-03T10:06:31.685229",
     "exception": false,
     "start_time": "2024-03-03T10:06:30.519431",
     "status": "completed"
    },
    "tags": []
   },
   "outputs": [],
   "source": [
    "\"\"\"to_csv - пишет табличные данные в файл '.csv' \"\"\"\n",
    "sample_submission.to_csv('sample_submission.csv')"
   ]
  }
 ],
 "metadata": {
  "kaggle": {
   "accelerator": "none",
   "dataSources": [
    {
     "databundleVersionId": 1474397,
     "sourceId": 22163,
     "sourceType": "competition"
    }
   ],
   "dockerImageVersionId": 30014,
   "isGpuEnabled": false,
   "isInternetEnabled": false,
   "language": "python",
   "sourceType": "notebook"
  },
  "kernelspec": {
   "display_name": "Python 3",
   "language": "python",
   "name": "python3"
  },
  "language_info": {
   "codemirror_mode": {
    "name": "ipython",
    "version": 3
   },
   "file_extension": ".py",
   "mimetype": "text/x-python",
   "name": "python",
   "nbconvert_exporter": "python",
   "pygments_lexer": "ipython3",
   "version": "3.7.6"
  },
  "papermill": {
   "duration": 178.135523,
   "end_time": "2024-03-03T10:06:32.613327",
   "environment_variables": {},
   "exception": null,
   "input_path": "__notebook__.ipynb",
   "output_path": "__notebook__.ipynb",
   "parameters": {},
   "start_time": "2024-03-03T10:03:34.477804",
   "version": "2.1.0"
  }
 },
 "nbformat": 4,
 "nbformat_minor": 4
}
