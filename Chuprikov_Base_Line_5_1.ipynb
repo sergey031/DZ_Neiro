{
  "metadata": {
    "kernelspec": {
      "language": "python",
      "display_name": "Python 3",
      "name": "python3"
    },
    "language_info": {
      "name": "python",
      "version": "3.7.9",
      "mimetype": "text/x-python",
      "codemirror_mode": {
        "name": "ipython",
        "version": 3
      },
      "pygments_lexer": "ipython3",
      "nbconvert_exporter": "python",
      "file_extension": ".py"
    },
    "kaggle": {
      "accelerator": "gpu",
      "dataSources": [
        {
          "sourceId": 26119,
          "databundleVersionId": 2013734,
          "sourceType": "competition"
        }
      ],
      "dockerImageVersionId": 30068,
      "isInternetEnabled": true,
      "language": "python",
      "sourceType": "notebook",
      "isGpuEnabled": true
    },
    "colab": {
      "provenance": [],
      "include_colab_link": true
    }
  },
  "nbformat_minor": 0,
  "nbformat": 4,
  "cells": [
    {
      "cell_type": "markdown",
      "metadata": {
        "id": "view-in-github",
        "colab_type": "text"
      },
      "source": [
        "<a href=\"https://colab.research.google.com/github/sergey031/DZ_Neiro/blob/master/Chuprikov_Base_Line_5_1.ipynb\" target=\"_parent\"><img src=\"https://colab.research.google.com/assets/colab-badge.svg\" alt=\"Open In Colab\"/></a>"
      ]
    },
    {
      "source": [
        "\n",
        "# IMPORTANT: RUN THIS CELL IN ORDER TO IMPORT YOUR KAGGLE DATA SOURCES\n",
        "# TO THE CORRECT LOCATION (/kaggle/input) IN YOUR NOTEBOOK,\n",
        "# THEN FEEL FREE TO DELETE THIS CELL.\n",
        "# NOTE: THIS NOTEBOOK ENVIRONMENT DIFFERS FROM KAGGLE'S PYTHON\n",
        "# ENVIRONMENT SO THERE MAY BE MISSING LIBRARIES USED BY YOUR\n",
        "# NOTEBOOK.\n",
        "\n",
        "import os\n",
        "import sys\n",
        "from tempfile import NamedTemporaryFile\n",
        "from urllib.request import urlopen\n",
        "from urllib.parse import unquote, urlparse\n",
        "from urllib.error import HTTPError\n",
        "from zipfile import ZipFile\n",
        "import tarfile\n",
        "import shutil\n",
        "\n",
        "CHUNK_SIZE = 40960\n",
        "DATA_SOURCE_MAPPING = 'dl-urfu-imdb:https%3A%2F%2Fstorage.googleapis.com%2Fkaggle-competitions-data%2Fkaggle-v2%2F26119%2F2013734%2Fbundle%2Farchive.zip%3FX-Goog-Algorithm%3DGOOG4-RSA-SHA256%26X-Goog-Credential%3Dgcp-kaggle-com%2540kaggle-161607.iam.gserviceaccount.com%252F20240305%252Fauto%252Fstorage%252Fgoog4_request%26X-Goog-Date%3D20240305T100805Z%26X-Goog-Expires%3D259200%26X-Goog-SignedHeaders%3Dhost%26X-Goog-Signature%3D6bc6d10966b079aea685acf4d2440667d5b06b4a91c70a90f9ef8e39b97cc0c889846cba678f6c9f5d815b690990ca6948602686ca5d655786bd3f1f8829f78344417cd74056aa0e0ea11acbbcfcb6f568488d69f7974f396c99caf560c544f3cde83fb217b2757e6e83db7e0caba3fe1a0b3f3221749e37d6f0b260b701fc0d47b36364ddf6da72d425eaafd939dcab47d638049a803595682f5874f12e74294f59da323ec3ccdc3358193a29d26cca86f7a85ca5de6012b8f51aa75145c9960915f5512a49cbf190f8b06e3fdb6f0c72f8fdfc6150b102cfc3b099b56734cb5d108604b2dce27d51799f6807d9420f4b7d570705e894263deb1ab29ddcc4a6'\n",
        "\n",
        "KAGGLE_INPUT_PATH='/kaggle/input'\n",
        "KAGGLE_WORKING_PATH='/kaggle/working'\n",
        "KAGGLE_SYMLINK='kaggle'\n",
        "\n",
        "!umount /kaggle/input/ 2> /dev/null\n",
        "shutil.rmtree('/kaggle/input', ignore_errors=True)\n",
        "os.makedirs(KAGGLE_INPUT_PATH, 0o777, exist_ok=True)\n",
        "os.makedirs(KAGGLE_WORKING_PATH, 0o777, exist_ok=True)\n",
        "\n",
        "try:\n",
        "  os.symlink(KAGGLE_INPUT_PATH, os.path.join(\"..\", 'input'), target_is_directory=True)\n",
        "except FileExistsError:\n",
        "  pass\n",
        "try:\n",
        "  os.symlink(KAGGLE_WORKING_PATH, os.path.join(\"..\", 'working'), target_is_directory=True)\n",
        "except FileExistsError:\n",
        "  pass\n",
        "\n",
        "for data_source_mapping in DATA_SOURCE_MAPPING.split(','):\n",
        "    directory, download_url_encoded = data_source_mapping.split(':')\n",
        "    download_url = unquote(download_url_encoded)\n",
        "    filename = urlparse(download_url).path\n",
        "    destination_path = os.path.join(KAGGLE_INPUT_PATH, directory)\n",
        "    try:\n",
        "        with urlopen(download_url) as fileres, NamedTemporaryFile() as tfile:\n",
        "            total_length = fileres.headers['content-length']\n",
        "            print(f'Downloading {directory}, {total_length} bytes compressed')\n",
        "            dl = 0\n",
        "            data = fileres.read(CHUNK_SIZE)\n",
        "            while len(data) > 0:\n",
        "                dl += len(data)\n",
        "                tfile.write(data)\n",
        "                done = int(50 * dl / int(total_length))\n",
        "                sys.stdout.write(f\"\\r[{'=' * done}{' ' * (50-done)}] {dl} bytes downloaded\")\n",
        "                sys.stdout.flush()\n",
        "                data = fileres.read(CHUNK_SIZE)\n",
        "            if filename.endswith('.zip'):\n",
        "              with ZipFile(tfile) as zfile:\n",
        "                zfile.extractall(destination_path)\n",
        "            else:\n",
        "              with tarfile.open(tfile.name) as tarfile:\n",
        "                tarfile.extractall(destination_path)\n",
        "            print(f'\\nDownloaded and uncompressed: {directory}')\n",
        "    except HTTPError as e:\n",
        "        print(f'Failed to load (likely expired) {download_url} to path {destination_path}')\n",
        "        continue\n",
        "    except OSError as e:\n",
        "        print(f'Failed to load {download_url} to path {destination_path}')\n",
        "        continue\n",
        "\n",
        "print('Data source import complete.')\n"
      ],
      "metadata": {
        "id": "J72VM1NQFcdE"
      },
      "cell_type": "code",
      "outputs": [],
      "execution_count": null
    },
    {
      "cell_type": "markdown",
      "source": [
        "# Плотное векторное представление слов для определения тональности текста отзывов на фильмы из IMDb (Internet Movie Database)\n",
        "\n",
        "Учебный курс \"[Нейросети для анализа текстов](https://www.asozykin.ru/courses/nnpython)\"."
      ],
      "metadata": {
        "id": "0gk59f0oFcdI"
      }
    },
    {
      "cell_type": "code",
      "source": [
        "from tensorflow.keras.datasets import imdb\n",
        "from tensorflow.keras.models import Sequential\n",
        "from tensorflow.keras.layers import Dense, Embedding, Flatten, Dropout\n",
        "from tensorflow.keras.callbacks import EarlyStopping\n",
        "from tensorflow.keras import utils\n",
        "from tensorflow.keras.preprocessing.sequence import pad_sequences\n",
        "# работа с обратной связью от обучающейся нейронной сети\n",
        "from tensorflow.keras.callbacks import EarlyStopping, ModelCheckpoint, ReduceLROnPlateau\n",
        "import numpy as np\n",
        "import pandas as pd\n",
        "import matplotlib.pyplot as plt\n",
        "%matplotlib inline\n",
        "import os\n",
        "for dirname, _, filenames in os.walk('/kaggle/input'):\n",
        "    for filename in filenames:\n",
        "        print(os.path.join(dirname, filename))"
      ],
      "metadata": {
        "_uuid": "8f2839f25d086af736a60e9eeb907d3b93b6e0e5",
        "_cell_guid": "b1076dfc-b9ad-4769-8c92-a6c4dae69d19",
        "execution": {
          "iopub.status.busy": "2024-03-05T09:54:36.735667Z",
          "iopub.execute_input": "2024-03-05T09:54:36.736055Z",
          "iopub.status.idle": "2024-03-05T09:54:42.305185Z",
          "shell.execute_reply.started": "2024-03-05T09:54:36.735977Z",
          "shell.execute_reply": "2024-03-05T09:54:42.30421Z"
        },
        "trusted": true,
        "id": "U_ALWVAxFcdJ"
      },
      "execution_count": null,
      "outputs": []
    },
    {
      "cell_type": "markdown",
      "source": [
        "Загружаем данные"
      ],
      "metadata": {
        "id": "wvjiDqcWFcdJ"
      }
    },
    {
      "cell_type": "code",
      "source": [
        "KAGGLE_PATH = '/kaggle/input/dl-urfu-imdb/'\n",
        "x_train = np.load(KAGGLE_PATH + 'train.npy', allow_pickle=True)\n",
        "y_train = np.load(KAGGLE_PATH + 'train_label.npy', allow_pickle=True)\n",
        "x_test = np.load(KAGGLE_PATH + 'test.npy', allow_pickle=True)\n",
        "x_train.shape, y_train.shape, x_test.shape,"
      ],
      "metadata": {
        "_uuid": "d629ff2d2480ee46fbb7e2d37f6b5fab8052498a",
        "_cell_guid": "79c7e3d0-c299-4dcb-8224-4455121ee9b0",
        "execution": {
          "iopub.status.busy": "2024-03-05T09:54:44.764365Z",
          "iopub.execute_input": "2024-03-05T09:54:44.764737Z",
          "iopub.status.idle": "2024-03-05T09:54:45.776011Z",
          "shell.execute_reply.started": "2024-03-05T09:54:44.764704Z",
          "shell.execute_reply": "2024-03-05T09:54:45.775023Z"
        },
        "trusted": true,
        "id": "mJx4IpuqFcdK"
      },
      "execution_count": null,
      "outputs": []
    },
    {
      "cell_type": "markdown",
      "source": [
        "## Подготовка данных для обучения"
      ],
      "metadata": {
        "id": "T-mY8rZoFcdK"
      }
    },
    {
      "cell_type": "code",
      "source": [
        "max_words = 10_000\n",
        "maxlen = 250\n",
        "x_train = pad_sequences(x_train, maxlen=maxlen, padding='post')\n",
        "x_test = pad_sequences(x_test, maxlen=maxlen, padding='post')"
      ],
      "metadata": {
        "execution": {
          "iopub.status.busy": "2024-03-05T09:55:02.284811Z",
          "iopub.execute_input": "2024-03-05T09:55:02.285169Z",
          "iopub.status.idle": "2024-03-05T09:55:04.370798Z",
          "shell.execute_reply.started": "2024-03-05T09:55:02.285136Z",
          "shell.execute_reply": "2024-03-05T09:55:04.369828Z"
        },
        "trusted": true,
        "id": "CwdlvwMhFcdK"
      },
      "execution_count": null,
      "outputs": []
    },
    {
      "cell_type": "markdown",
      "source": [
        "## Создание нейронной сети"
      ],
      "metadata": {
        "id": "mSD5xVgHFcdK"
      }
    },
    {
      "cell_type": "code",
      "source": [
        "model = Sequential()\n",
        "model.add(Embedding(max_words, 7, input_length=maxlen))\n",
        "model.add(Dropout(0.8))\n",
        "model.add(Flatten())\n",
        "model.add(Dense(1, activation='sigmoid'))"
      ],
      "metadata": {
        "execution": {
          "iopub.status.busy": "2024-03-05T09:55:16.293377Z",
          "iopub.execute_input": "2024-03-05T09:55:16.293783Z",
          "iopub.status.idle": "2024-03-05T09:55:18.690209Z",
          "shell.execute_reply.started": "2024-03-05T09:55:16.293748Z",
          "shell.execute_reply": "2024-03-05T09:55:18.689513Z"
        },
        "trusted": true,
        "id": "pR4oxjcpFcdL"
      },
      "execution_count": null,
      "outputs": []
    },
    {
      "cell_type": "code",
      "source": [
        "model.compile(optimizer='adam',\n",
        "              loss='binary_crossentropy',\n",
        "              metrics=['accuracy'])"
      ],
      "metadata": {
        "execution": {
          "iopub.status.busy": "2024-03-05T09:55:29.026387Z",
          "iopub.execute_input": "2024-03-05T09:55:29.026761Z",
          "iopub.status.idle": "2024-03-05T09:55:29.041651Z",
          "shell.execute_reply.started": "2024-03-05T09:55:29.026728Z",
          "shell.execute_reply": "2024-03-05T09:55:29.040828Z"
        },
        "trusted": true,
        "id": "lC4fTTaLFcdL"
      },
      "execution_count": null,
      "outputs": []
    },
    {
      "cell_type": "markdown",
      "source": [
        "## Обучаем нейронную сеть"
      ],
      "metadata": {
        "id": "PjcVeNJVFcdL"
      }
    },
    {
      "cell_type": "code",
      "source": [
        "history = model.fit(x_train,\n",
        "                    y_train,\n",
        "                    epochs=15,\n",
        "                    batch_size=198,\n",
        "                    validation_split=0.1)"
      ],
      "metadata": {
        "execution": {
          "iopub.status.busy": "2024-03-05T09:55:40.696328Z",
          "iopub.execute_input": "2024-03-05T09:55:40.696674Z",
          "iopub.status.idle": "2024-03-05T09:55:56.165549Z",
          "shell.execute_reply.started": "2024-03-05T09:55:40.696645Z",
          "shell.execute_reply": "2024-03-05T09:55:56.164649Z"
        },
        "trusted": true,
        "id": "sWWX51KYFcdL"
      },
      "execution_count": null,
      "outputs": []
    },
    {
      "cell_type": "code",
      "source": [
        "plt.plot(history.history['accuracy'],\n",
        "         label='Доля верных ответов на обучающем наборе')\n",
        "plt.plot(history.history['val_accuracy'],\n",
        "         label='Доля верных ответов на проверочном наборе')\n",
        "plt.xlabel('Эпоха обучения')\n",
        "plt.ylabel('Доля верных ответов')\n",
        "plt.legend()\n",
        "plt.show()"
      ],
      "metadata": {
        "execution": {
          "iopub.status.busy": "2024-03-05T09:56:00.899905Z",
          "iopub.execute_input": "2024-03-05T09:56:00.900244Z",
          "iopub.status.idle": "2024-03-05T09:56:01.141323Z",
          "shell.execute_reply.started": "2024-03-05T09:56:00.900215Z",
          "shell.execute_reply": "2024-03-05T09:56:01.140332Z"
        },
        "trusted": true,
        "id": "icjqjvAjFcdL"
      },
      "execution_count": null,
      "outputs": []
    },
    {
      "cell_type": "markdown",
      "source": [
        "## Готовим данные для LeaderBoard"
      ],
      "metadata": {
        "id": "PoJ-Ao6OFcdM"
      }
    },
    {
      "cell_type": "code",
      "source": [
        "sample_submission = pd.read_csv(KAGGLE_PATH + 'sample_supmission.csv', index_col='id')\n",
        "sample_submission.label = model.predict_classes(x_test)\n",
        "sample_submission.to_csv(\"sample_submission.csv\")"
      ],
      "metadata": {
        "execution": {
          "iopub.status.busy": "2024-03-05T09:56:22.321566Z",
          "iopub.execute_input": "2024-03-05T09:56:22.321924Z",
          "iopub.status.idle": "2024-03-05T09:56:22.489313Z",
          "shell.execute_reply.started": "2024-03-05T09:56:22.321888Z",
          "shell.execute_reply": "2024-03-05T09:56:22.488276Z"
        },
        "trusted": true,
        "id": "VOC27lJwFcdM"
      },
      "execution_count": null,
      "outputs": []
    }
  ]
}