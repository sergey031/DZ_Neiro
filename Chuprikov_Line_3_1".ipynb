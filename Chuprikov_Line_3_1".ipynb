{
  "metadata": {
    "kernelspec": {
      "language": "python",
      "display_name": "Python 3",
      "name": "python3"
    },
    "language_info": {
      "name": "python",
      "version": "3.7.9",
      "mimetype": "text/x-python",
      "codemirror_mode": {
        "name": "ipython",
        "version": 3
      },
      "pygments_lexer": "ipython3",
      "nbconvert_exporter": "python",
      "file_extension": ".py"
    },
    "kaggle": {
      "accelerator": "gpu",
      "dataSources": [
        {
          "sourceId": 26092,
          "databundleVersionId": 2011202,
          "sourceType": "competition"
        }
      ],
      "dockerImageVersionId": 30068,
      "isInternetEnabled": true,
      "language": "python",
      "sourceType": "notebook",
      "isGpuEnabled": true
    },
    "colab": {
      "provenance": [],
      "include_colab_link": true
    }
  },
  "nbformat_minor": 0,
  "nbformat": 4,
  "cells": [
    {
      "cell_type": "markdown",
      "metadata": {
        "id": "view-in-github",
        "colab_type": "text"
      },
      "source": [
        "<a href=\"https://colab.research.google.com/github/sergey031/DZ_Neiro/blob/master/Chuprikov_Line_3_1%22.ipynb\" target=\"_parent\"><img src=\"https://colab.research.google.com/assets/colab-badge.svg\" alt=\"Open In Colab\"/></a>"
      ]
    },
    {
      "source": [
        "\n",
        "# IMPORTANT: RUN THIS CELL IN ORDER TO IMPORT YOUR KAGGLE DATA SOURCES\n",
        "# TO THE CORRECT LOCATION (/kaggle/input) IN YOUR NOTEBOOK,\n",
        "# THEN FEEL FREE TO DELETE THIS CELL.\n",
        "# NOTE: THIS NOTEBOOK ENVIRONMENT DIFFERS FROM KAGGLE'S PYTHON\n",
        "# ENVIRONMENT SO THERE MAY BE MISSING LIBRARIES USED BY YOUR\n",
        "# NOTEBOOK.\n",
        "\n",
        "import os\n",
        "import sys\n",
        "from tempfile import NamedTemporaryFile\n",
        "from urllib.request import urlopen\n",
        "from urllib.parse import unquote, urlparse\n",
        "from urllib.error import HTTPError\n",
        "from zipfile import ZipFile\n",
        "import tarfile\n",
        "import shutil\n",
        "\n",
        "CHUNK_SIZE = 40960\n",
        "DATA_SOURCE_MAPPING = 'dl-urfu-regression:https%3A%2F%2Fstorage.googleapis.com%2Fkaggle-competitions-data%2Fkaggle-v2%2F26092%2F2011202%2Fbundle%2Farchive.zip%3FX-Goog-Algorithm%3DGOOG4-RSA-SHA256%26X-Goog-Credential%3Dgcp-kaggle-com%2540kaggle-161607.iam.gserviceaccount.com%252F20240311%252Fauto%252Fstorage%252Fgoog4_request%26X-Goog-Date%3D20240311T170458Z%26X-Goog-Expires%3D259200%26X-Goog-SignedHeaders%3Dhost%26X-Goog-Signature%3D4019ac8bc2c04410e145c8a576789cab03b39761cb20361fe6dfe095347c48572fc2c7e8e0507ded66da321c2337180f63101c526985a10be3000174f91c0ebea31947570c69df2c95648fd48e6b5d921ed8df38788ddf044ef91f49adb07ad1ba0228260c977def6b4a033a0faa5751be263d607f853a00cf4e9483bba28292b135e4e3bc598b8270f8247aeed9654c41a494b8517b3aea8c1a3d1d3be4ae3da88c74a594a03711b3f6de4b04ffab3c67e7c7c2f0093409be49b8394b5cb7ceb117822ba49555fde167247e741119a2e8dc15787a462995a0b8ab34f94eff009d0e69f2e8926bbcfa2d37ab8fd70007187731bdba37f5b8450bc970753f4ae0'\n",
        "\n",
        "KAGGLE_INPUT_PATH='/kaggle/input'\n",
        "KAGGLE_WORKING_PATH='/kaggle/working'\n",
        "KAGGLE_SYMLINK='kaggle'\n",
        "\n",
        "!umount /kaggle/input/ 2> /dev/null\n",
        "shutil.rmtree('/kaggle/input', ignore_errors=True)\n",
        "os.makedirs(KAGGLE_INPUT_PATH, 0o777, exist_ok=True)\n",
        "os.makedirs(KAGGLE_WORKING_PATH, 0o777, exist_ok=True)\n",
        "\n",
        "try:\n",
        "  os.symlink(KAGGLE_INPUT_PATH, os.path.join(\"..\", 'input'), target_is_directory=True)\n",
        "except FileExistsError:\n",
        "  pass\n",
        "try:\n",
        "  os.symlink(KAGGLE_WORKING_PATH, os.path.join(\"..\", 'working'), target_is_directory=True)\n",
        "except FileExistsError:\n",
        "  pass\n",
        "\n",
        "for data_source_mapping in DATA_SOURCE_MAPPING.split(','):\n",
        "    directory, download_url_encoded = data_source_mapping.split(':')\n",
        "    download_url = unquote(download_url_encoded)\n",
        "    filename = urlparse(download_url).path\n",
        "    destination_path = os.path.join(KAGGLE_INPUT_PATH, directory)\n",
        "    try:\n",
        "        with urlopen(download_url) as fileres, NamedTemporaryFile() as tfile:\n",
        "            total_length = fileres.headers['content-length']\n",
        "            print(f'Downloading {directory}, {total_length} bytes compressed')\n",
        "            dl = 0\n",
        "            data = fileres.read(CHUNK_SIZE)\n",
        "            while len(data) > 0:\n",
        "                dl += len(data)\n",
        "                tfile.write(data)\n",
        "                done = int(50 * dl / int(total_length))\n",
        "                sys.stdout.write(f\"\\r[{'=' * done}{' ' * (50-done)}] {dl} bytes downloaded\")\n",
        "                sys.stdout.flush()\n",
        "                data = fileres.read(CHUNK_SIZE)\n",
        "            if filename.endswith('.zip'):\n",
        "              with ZipFile(tfile) as zfile:\n",
        "                zfile.extractall(destination_path)\n",
        "            else:\n",
        "              with tarfile.open(tfile.name) as tarfile:\n",
        "                tarfile.extractall(destination_path)\n",
        "            print(f'\\nDownloaded and uncompressed: {directory}')\n",
        "    except HTTPError as e:\n",
        "        print(f'Failed to load (likely expired) {download_url} to path {destination_path}')\n",
        "        continue\n",
        "    except OSError as e:\n",
        "        print(f'Failed to load {download_url} to path {destination_path}')\n",
        "        continue\n",
        "\n",
        "print('Data source import complete.')\n"
      ],
      "metadata": {
        "id": "jjY60SSreYuS"
      },
      "cell_type": "code",
      "outputs": [],
      "execution_count": null
    },
    {
      "cell_type": "markdown",
      "source": [
        "## Решение задачи регрессии с помощью нейронных сетей\n",
        "\n",
        "Определение стоимости недвижимости из набора данных [California Housing Data Set](https://developers.google.com/machine-learning/crash-course/california-housing-data-description).\n",
        "\n",
        "Учебный курс \"[Программирование глубоких нейронных сетей на Python](https://openedu.ru/course/urfu/PYDNN/)\"."
      ],
      "metadata": {
        "id": "FAgz5l4PeYuV"
      }
    },
    {
      "cell_type": "code",
      "source": [
        "from tensorflow.keras.models import Sequential\n",
        "from tensorflow.keras.layers import Dense\n",
        "import pandas as pd\n",
        "import numpy as np\n",
        "import matplotlib.pyplot as plt\n",
        "%matplotlib inline\n",
        "\"\"\" посмотрим, какие файлы храняться в директории \"\"\"\n",
        "import os\n",
        "for dirname, _, filenames in os.walk('/kaggle/input/'):\n",
        "    for filename in filenames:\n",
        "        print(os.path.join(dirname, filename))"
      ],
      "metadata": {
        "execution": {
          "iopub.status.busy": "2024-03-11T16:32:38.893329Z",
          "iopub.execute_input": "2024-03-11T16:32:38.893743Z",
          "iopub.status.idle": "2024-03-11T16:32:44.080464Z",
          "shell.execute_reply.started": "2024-03-11T16:32:38.893653Z",
          "shell.execute_reply": "2024-03-11T16:32:44.079558Z"
        },
        "trusted": true,
        "id": "VY22d5NaeYuW"
      },
      "execution_count": null,
      "outputs": []
    },
    {
      "cell_type": "markdown",
      "source": [
        "## Загружаем данные"
      ],
      "metadata": {
        "id": "CHOyhX-xeYuW"
      }
    },
    {
      "cell_type": "code",
      "source": [
        "train_df = pd.read_csv('/kaggle/input/dl-urfu-regression/train.csv')\n",
        "test_df = pd.read_csv('/kaggle/input/dl-urfu-regression/test.csv')\n",
        "sample_submission = pd.read_csv('/kaggle/input/dl-urfu-regression/sample_submission.csv', index_col='id')"
      ],
      "metadata": {
        "execution": {
          "iopub.status.busy": "2024-03-11T16:32:44.082348Z",
          "iopub.execute_input": "2024-03-11T16:32:44.082626Z",
          "iopub.status.idle": "2024-03-11T16:32:44.149411Z",
          "shell.execute_reply.started": "2024-03-11T16:32:44.082598Z",
          "shell.execute_reply": "2024-03-11T16:32:44.148775Z"
        },
        "trusted": true,
        "id": "QdACt1v1eYuW"
      },
      "execution_count": null,
      "outputs": []
    },
    {
      "cell_type": "markdown",
      "source": [
        "**Описание данных**\n",
        "\n",
        "California Housing содержит данные о средней стоимость домов в Калифорнии для квартала. Файл с данными содержит следующие столбцы:\n",
        "\n",
        "*   **longitude** - долгота квартала с недвижимостью.\n",
        "*   **latitude** - широта квартала с недвижимостью.\n",
        "*   **housing_median_age** - медиана возраста домов в квартале.\n",
        "*   **total_rooms** - общее колиичество комнат в квартале.\n",
        "*   **total_bedrooms** - общее количество спален в квартале.\n",
        "*   **population** - население квартала.\n",
        "*   **households** - количество \"домохозяйств\" в квартале (групп людей живущих вместе в одном доме. Как правило это семьи).\n",
        "*   **median_income** - медианный доход в квартале.\n",
        "*   **median_house_value** - медианная стоимость дома в квартале.\n",
        "\n"
      ],
      "metadata": {
        "id": "ipeIEswmeYuW"
      }
    },
    {
      "cell_type": "code",
      "source": [
        "\"\"\"Смотрим на случайные 3 записи в нашем тренировочном наборе\"\"\"\n",
        "train_df.sample(3)"
      ],
      "metadata": {
        "execution": {
          "iopub.status.busy": "2024-03-11T16:32:44.15051Z",
          "iopub.execute_input": "2024-03-11T16:32:44.150757Z",
          "iopub.status.idle": "2024-03-11T16:32:44.17126Z",
          "shell.execute_reply.started": "2024-03-11T16:32:44.150733Z",
          "shell.execute_reply": "2024-03-11T16:32:44.170426Z"
        },
        "trusted": true,
        "id": "8jlu-kSEeYuW"
      },
      "execution_count": null,
      "outputs": []
    },
    {
      "cell_type": "code",
      "source": [
        "\"\"\"Смотрим на случайные 3 записи в нашем тестовом наборе\"\"\"\n",
        "test_df.sample(3)"
      ],
      "metadata": {
        "execution": {
          "iopub.status.busy": "2024-03-11T16:32:44.172836Z",
          "iopub.execute_input": "2024-03-11T16:32:44.173192Z",
          "iopub.status.idle": "2024-03-11T16:32:44.186547Z",
          "shell.execute_reply.started": "2024-03-11T16:32:44.173157Z",
          "shell.execute_reply": "2024-03-11T16:32:44.185695Z"
        },
        "trusted": true,
        "id": "-DducqAceYuX"
      },
      "execution_count": null,
      "outputs": []
    },
    {
      "cell_type": "code",
      "source": [
        "\"\"\"Смотрим на случайные 3 записи в шаблоне для ответов\"\"\"\n",
        "sample_submission.sample(3)"
      ],
      "metadata": {
        "execution": {
          "iopub.status.busy": "2024-03-11T16:32:44.189549Z",
          "iopub.execute_input": "2024-03-11T16:32:44.189841Z",
          "iopub.status.idle": "2024-03-11T16:32:44.201442Z",
          "shell.execute_reply.started": "2024-03-11T16:32:44.189793Z",
          "shell.execute_reply": "2024-03-11T16:32:44.200454Z"
        },
        "trusted": true,
        "id": "zkCfKXoKeYuX"
      },
      "execution_count": null,
      "outputs": []
    },
    {
      "cell_type": "markdown",
      "source": [
        "## Постановка задачи регрессии\n",
        "\n",
        "Необходимо определить медианную стоимость дома в квартале, зная все остальные признаки.\n",
        "\n",
        "**Целевая переменная**: `median_house_value`\n",
        "\n",
        "**Признаки**: `longitude, latitude, housing_median_age, total_rooms, total_bedrooms, population, households,\tmedian_income`\n",
        "\n",
        "Признаки подаются на вход нейронной сети, на выходе сеть должна выдать значение целевой переменной - `median_house_value`"
      ],
      "metadata": {
        "id": "0wgXn5TReYuX"
      }
    },
    {
      "cell_type": "code",
      "source": [
        "\"\"\"Выделяем данные для обучения и преобразуем их в массивы numpy.\n",
        "Функция pop() возвращает нам указанный столбец и одновременно удаляет его из таблицы.\n",
        "Таким образом, когда мы присваиваем df_train в переменную x_train,\n",
        "там уже нет столбца с метками правильных ответов median_house_value \"\"\"\n",
        "y_train = train_df.pop('median_house_value').values\n",
        "x_train = train_df.values\n",
        "x_test = test_df.values"
      ],
      "metadata": {
        "execution": {
          "iopub.status.busy": "2024-03-11T16:32:44.202845Z",
          "iopub.execute_input": "2024-03-11T16:32:44.203148Z",
          "iopub.status.idle": "2024-03-11T16:32:44.21242Z",
          "shell.execute_reply.started": "2024-03-11T16:32:44.203121Z",
          "shell.execute_reply": "2024-03-11T16:32:44.211733Z"
        },
        "trusted": true,
        "id": "96oXYjNBeYuX"
      },
      "execution_count": null,
      "outputs": []
    },
    {
      "cell_type": "code",
      "source": [
        "\"\"\"Убедимся, что количество столбцов в данных совпадает\"\"\"\n",
        "x_train.shape, x_test.shape"
      ],
      "metadata": {
        "execution": {
          "iopub.status.busy": "2024-03-11T16:32:44.213417Z",
          "iopub.execute_input": "2024-03-11T16:32:44.213678Z",
          "iopub.status.idle": "2024-03-11T16:32:44.224558Z",
          "shell.execute_reply.started": "2024-03-11T16:32:44.213652Z",
          "shell.execute_reply": "2024-03-11T16:32:44.223661Z"
        },
        "trusted": true,
        "id": "FdgmBUXHeYuX"
      },
      "execution_count": null,
      "outputs": []
    },
    {
      "cell_type": "markdown",
      "source": [
        "**Стандартизация данных**\n",
        "\n",
        "Вычитаем среднее значение и делим на стандартное отклонение"
      ],
      "metadata": {
        "id": "HhD9BOs4eYuX"
      }
    },
    {
      "cell_type": "code",
      "source": [
        "# Среднее значение\n",
        "mean = x_train.mean(axis=0)\n",
        "# Стандартное отклонение\n",
        "std = x_train.std(axis=0)\n",
        "x_train -= mean\n",
        "x_train /= std\n",
        "x_test -= mean\n",
        "x_test /= std"
      ],
      "metadata": {
        "execution": {
          "iopub.status.busy": "2024-03-11T16:32:44.22577Z",
          "iopub.execute_input": "2024-03-11T16:32:44.226142Z",
          "iopub.status.idle": "2024-03-11T16:32:44.234711Z",
          "shell.execute_reply.started": "2024-03-11T16:32:44.226107Z",
          "shell.execute_reply": "2024-03-11T16:32:44.234103Z"
        },
        "trusted": true,
        "id": "oGh-IEJbeYuX"
      },
      "execution_count": null,
      "outputs": []
    },
    {
      "cell_type": "markdown",
      "source": [
        "## Создаем нейронную сеть\n",
        "\n",
        "Выходной слой с одним линейным нейроном - для задачи регрессии функция активации - RELU."
      ],
      "metadata": {
        "id": "Vk4xuDuNeYuX"
      }
    },
    {
      "cell_type": "code",
      "source": [
        "model = Sequential()\n",
        "model.add(Dense(128, activation='relu', input_shape=(x_train.shape[1],)))\n",
        "model.add(Dense(64, activation='relu'))\n",
        "model.add(Dense(32, activation='relu'))\n",
        "model.add(Dense(1, activation='relu'))"
      ],
      "metadata": {
        "execution": {
          "iopub.status.busy": "2024-03-11T16:32:44.23573Z",
          "iopub.execute_input": "2024-03-11T16:32:44.236025Z",
          "iopub.status.idle": "2024-03-11T16:32:46.732289Z",
          "shell.execute_reply.started": "2024-03-11T16:32:44.235999Z",
          "shell.execute_reply": "2024-03-11T16:32:46.731497Z"
        },
        "trusted": true,
        "id": "opEA-4A5eYuY"
      },
      "execution_count": null,
      "outputs": []
    },
    {
      "cell_type": "code",
      "source": [
        "print(model.summary())"
      ],
      "metadata": {
        "execution": {
          "iopub.status.busy": "2024-03-11T16:32:46.733521Z",
          "iopub.execute_input": "2024-03-11T16:32:46.734009Z",
          "iopub.status.idle": "2024-03-11T16:32:46.740086Z",
          "shell.execute_reply.started": "2024-03-11T16:32:46.733961Z",
          "shell.execute_reply": "2024-03-11T16:32:46.739181Z"
        },
        "trusted": true,
        "id": "1rxYIwdMeYuY"
      },
      "execution_count": null,
      "outputs": []
    },
    {
      "cell_type": "markdown",
      "source": [
        "**Компилируем сеть**\n",
        "\n",
        "Функция ошибки - среднеквадратичное отклонение. Метрика - среднее абсолютное отклонение."
      ],
      "metadata": {
        "id": "h8VNbc-reYuY"
      }
    },
    {
      "cell_type": "code",
      "source": [
        "model.compile(optimizer='nadam', loss='mse', metrics=['mae'])"
      ],
      "metadata": {
        "execution": {
          "iopub.status.busy": "2024-03-11T16:32:46.741064Z",
          "iopub.execute_input": "2024-03-11T16:32:46.741318Z",
          "iopub.status.idle": "2024-03-11T16:32:46.759489Z",
          "shell.execute_reply.started": "2024-03-11T16:32:46.741293Z",
          "shell.execute_reply": "2024-03-11T16:32:46.75887Z"
        },
        "trusted": true,
        "id": "MUMTSoLJeYuY"
      },
      "execution_count": null,
      "outputs": []
    },
    {
      "cell_type": "markdown",
      "source": [
        "## Обучаем нейронную сеть"
      ],
      "metadata": {
        "id": "wWC3dko_eYuY"
      }
    },
    {
      "cell_type": "code",
      "source": [
        "history = model.fit(x_train,\n",
        "                    y_train,\n",
        "                    batch_size=15,\n",
        "                    epochs=300,\n",
        "                    validation_split=0.1,\n",
        "                    verbose=2)"
      ],
      "metadata": {
        "execution": {
          "iopub.status.busy": "2024-03-11T16:32:46.760609Z",
          "iopub.execute_input": "2024-03-11T16:32:46.76097Z",
          "iopub.status.idle": "2024-03-11T16:42:32.881641Z",
          "shell.execute_reply.started": "2024-03-11T16:32:46.760942Z",
          "shell.execute_reply": "2024-03-11T16:42:32.880812Z"
        },
        "trusted": true,
        "id": "mpbliTqGeYuY"
      },
      "execution_count": null,
      "outputs": []
    },
    {
      "cell_type": "markdown",
      "source": [
        "## Визуализация качества обучения"
      ],
      "metadata": {
        "id": "6axHYiuteYuY"
      }
    },
    {
      "cell_type": "code",
      "source": [
        "plt.plot(history.history['mae'],\n",
        "         label='Средняя абсолютная ошибка на обучающем наборе')\n",
        "plt.plot(history.history['val_mae'],\n",
        "         label='Средняя абсолютная ошибка на проверочном наборе')\n",
        "plt.xlabel('Эпоха обучения')\n",
        "plt.ylabel('Средняя абсолютная ошибка')\n",
        "plt.legend()\n",
        "plt.show()"
      ],
      "metadata": {
        "execution": {
          "iopub.status.busy": "2024-03-11T16:42:32.883066Z",
          "iopub.execute_input": "2024-03-11T16:42:32.883366Z",
          "iopub.status.idle": "2024-03-11T16:42:33.096995Z",
          "shell.execute_reply.started": "2024-03-11T16:42:32.883338Z",
          "shell.execute_reply": "2024-03-11T16:42:33.096267Z"
        },
        "trusted": true,
        "id": "5MvXKMLneYuY"
      },
      "execution_count": null,
      "outputs": []
    },
    {
      "cell_type": "markdown",
      "source": [
        "## Готовим данные для теста на liderboard"
      ],
      "metadata": {
        "id": "pNtU00gheYuY"
      }
    },
    {
      "cell_type": "markdown",
      "source": [
        "Делаем предсказания на тестовом наборе данных"
      ],
      "metadata": {
        "id": "ey4Ufig9eYuY"
      }
    },
    {
      "cell_type": "code",
      "source": [
        "\"\"\"делаем предсказания по всем тестовым данным\"\"\"\n",
        "predictions = model.predict(x_test)\n",
        "predictions"
      ],
      "metadata": {
        "execution": {
          "iopub.status.busy": "2024-03-11T16:42:33.098314Z",
          "iopub.execute_input": "2024-03-11T16:42:33.098681Z",
          "iopub.status.idle": "2024-03-11T16:42:33.267538Z",
          "shell.execute_reply.started": "2024-03-11T16:42:33.098644Z",
          "shell.execute_reply": "2024-03-11T16:42:33.266733Z"
        },
        "trusted": true,
        "id": "u3F1xqaPeYuZ"
      },
      "execution_count": null,
      "outputs": []
    },
    {
      "cell_type": "markdown",
      "source": [
        "Пишем результаты предсказаний в шаблон \"sample_submission\""
      ],
      "metadata": {
        "id": "0gHHi6ICeYuZ"
      }
    },
    {
      "cell_type": "code",
      "source": [
        "\"\"\"используем файл с правильным шаблоном формата записи ответов и пишем в него наши предсказания\"\"\"\n",
        "sample_submission['median_house_value'] = predictions"
      ],
      "metadata": {
        "execution": {
          "iopub.status.busy": "2024-03-11T16:42:33.268947Z",
          "iopub.execute_input": "2024-03-11T16:42:33.26928Z",
          "iopub.status.idle": "2024-03-11T16:42:33.273421Z",
          "shell.execute_reply.started": "2024-03-11T16:42:33.269252Z",
          "shell.execute_reply": "2024-03-11T16:42:33.272599Z"
        },
        "trusted": true,
        "id": "UAHFF8EmeYuZ"
      },
      "execution_count": null,
      "outputs": []
    },
    {
      "cell_type": "markdown",
      "source": [
        "Записываем ответы для проверки на liderboard"
      ],
      "metadata": {
        "id": "WDmed58-eYuZ"
      }
    },
    {
      "cell_type": "code",
      "source": [
        "\"\"\"to_csv - пишет табличные данные в файл '.csv' \"\"\"\n",
        "sample_submission.to_csv('sample_submission.csv')"
      ],
      "metadata": {
        "execution": {
          "iopub.status.busy": "2024-03-11T16:42:33.274402Z",
          "iopub.execute_input": "2024-03-11T16:42:33.274679Z",
          "iopub.status.idle": "2024-03-11T16:42:33.471157Z",
          "shell.execute_reply.started": "2024-03-11T16:42:33.274653Z",
          "shell.execute_reply": "2024-03-11T16:42:33.470141Z"
        },
        "trusted": true,
        "id": "Rhqv3Oi2eYuZ"
      },
      "execution_count": null,
      "outputs": []
    }
  ]
}